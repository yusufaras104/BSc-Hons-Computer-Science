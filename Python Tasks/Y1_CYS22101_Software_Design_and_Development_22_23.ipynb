{
  "cells": [
    {
      "cell_type": "markdown",
      "metadata": {
        "id": "bqyOQ1Brx7kB"
      },
      "source": [
        "Task 1 - Write a python code to print an American flag on the screen."
      ]
    },
    {
      "cell_type": "code",
      "execution_count": null,
      "metadata": {
        "colab": {
          "base_uri": "https://localhost:8080/"
        },
        "id": "hvA9bGlLyHUK",
        "outputId": "37ceb257-3eb0-4045-a091-00475d0a3ab1"
      },
      "outputs": [
        {
          "name": "stdout",
          "output_type": "stream",
          "text": [
            "* * * * * * * ====================================\n",
            " * * * * * * *====================================\n",
            "* * * * * * * ====================================\n",
            " * * * * * * *====================================\n",
            "* * * * * * * ====================================\n",
            " * * * * * * *====================================\n",
            "==================================================\n",
            "==================================================\n",
            "==================================================\n",
            "==================================================\n",
            "\n"
          ]
        }
      ],
      "source": [
        "'''\n",
        "Write a python code to print an American flag on the screen.\n",
        "Expected Output:\n",
        "\n",
        "* * * * * * * ====================================\n",
        " * * * * * * *====================================\n",
        "* * * * * * * ====================================\n",
        " * * * * * * *====================================\n",
        "* * * * * * * ====================================\n",
        " * * * * * * *====================================\n",
        "==================================================\n",
        "==================================================\n",
        "==================================================\n",
        "==================================================\n",
        "'''\n",
        "\"\"\"\n",
        "# The following lines print the pattern of stars and equal signs to represent the American flag\n",
        "print(\"* * * * * * * ====================================\")\n",
        "print(\" * * * * * * *====================================\")\n",
        "print(\"* * * * * * * ====================================\")\n",
        "print(\" * * * * * * *====================================\")\n",
        "print(\"* * * * * * * ====================================\")\n",
        "print(\" * * * * * * *====================================\")\n",
        "print(\"==================================================\")\n",
        "print(\"==================================================\")\n",
        "print(\"==================================================\")\n",
        "print(\"==================================================\")\n",
        "\"\"\"\n",
        "\n",
        "def printUSAFlag(height, width):\n",
        "    s = \"\"\n",
        "\n",
        "    # Iterate over each row and column to construct the flag pattern\n",
        "    for i in range(height):\n",
        "        for j in range(width):\n",
        "            if i < 9*height/15 and j < 12*width/46:\n",
        "                # Check the position to determine whether to print '*' or ' '\n",
        "                if (i+j)%2 == 0 and j != 12*width/46 - 1:\n",
        "                    s += '*'  # Add '*' to the pattern\n",
        "                else:\n",
        "                    s += \" \"  # Add empty space to the pattern\n",
        "            else:\n",
        "                s += '='  # Add '=' to the pattern for the remaining area\n",
        "\n",
        "            if j == width - 1:\n",
        "                s += '\\n'  # Add a newline character at the end of each row\n",
        "            else:\n",
        "                s += ''  # Add an empty character for formatting purposes\n",
        "\n",
        "    print(s)  # Print the final pattern\n",
        "\n",
        "'''\n",
        "width = int(input(\"Width: \"))\n",
        "height = int(input(\"Height: \"))\n",
        "'''\n",
        "\n",
        "# Call the function to print the American flag with given dimensions\n",
        "printUSAFlag(10, 50)\n",
        "\n"
      ]
    },
    {
      "cell_type": "markdown",
      "metadata": {
        "id": "F7bohxWK3CWh"
      },
      "source": [
        "# Documentation\n",
        "\n",
        "This brief explanation provides an overview of the Python code that prints an American flag on the screen using ASCII characters.\n",
        "\n",
        "# Usage\n",
        "To use the program, follow these steps:\n",
        "\n",
        "Run the program in a Python environment.\n",
        "The program will print an ASCII representation of the American flag on the screen.\n",
        "# Code Description\n",
        "The program consists of a single function:\n",
        "\n",
        "`print_american_flag():` This function prints an ASCII representation of the American flag on the screen.\n",
        "\n",
        "It follows a simplified structure and uses alternating rows of asterisks (*) and spaces to create the flag pattern.\n",
        "\n",
        "The top part of the flag has 9 rows, the middle part has 6 rows."
      ]
    },
    {
      "cell_type": "markdown",
      "metadata": {
        "id": "9lJ2vbi-xxy3"
      },
      "source": [
        " Task 2 -\n",
        "\n",
        " Write a python program to compute body mass index (BMI). The program should take input values such as weight and height in order to calculate BMI and display it on the screen. In addition, the program should display to the user whether the calculated BMI result corresponds to underweight, healthy weight or overweight.\n",
        "Formula: weight (kg) / [height (m)]2"
      ]
    },
    {
      "cell_type": "code",
      "execution_count": null,
      "metadata": {
        "colab": {
          "base_uri": "https://localhost:8080/"
        },
        "id": "rn-av_skx1aC",
        "outputId": "1f24a88f-8b3e-468a-a5c8-a875f9c45164"
      },
      "outputs": [
        {
          "name": "stdout",
          "output_type": "stream",
          "text": [
            "Enter your height in cm: 178\n",
            "Enter your weight in kg: 67\n",
            "You are healthy.\n"
          ]
        }
      ],
      "source": [
        "# Task 2: Computing Body Mass Index (BMI)\n",
        "\n",
        "\"\"\"\n",
        "Write a python program to compute body mass index (BMI). The program should take input values such as weight and height in order to calculate BMI and display it on the screen. In addition, the program should display to the user whether the calculated BMI result corresponds to underweight, healthy weight, or overweight.\n",
        "Formula: weight (kg) / [height (m)]^2\n",
        "\"\"\"\n",
        "\n",
        "# Prompt the user to input height and weight\n",
        "height = float(input(\"Enter your height in cm: \"))\n",
        "weight = float(input(\"Enter your weight in kg: \"))\n",
        "\n",
        "# Calculate BMI using the provided formula\n",
        "BMI = weight / (height/100)**2\n",
        "\n",
        "# Check the calculated BMI and provide corresponding output based on the value\n",
        "if BMI <= 18.4:\n",
        "    print(\"You are underweight.\")\n",
        "elif BMI <= 24.9:\n",
        "    print(\"You are healthy.\")\n",
        "elif BMI <= 29.9:\n",
        "    print(\"You are overweight.\")\n",
        "elif BMI <= 34.9:\n",
        "    print(\"You are severely overweight.\")\n",
        "elif BMI <= 39.9:\n",
        "    print(\"You are obese.\")\n",
        "else:\n",
        "    print(\"You are severely obese.\")\n",
        "\n",
        "\n"
      ]
    },
    {
      "cell_type": "markdown",
      "metadata": {
        "id": "ZQCAKnYW3fIA"
      },
      "source": [
        "# Body Mass Index (BMI) Calculator\n",
        "This section provides a brief overview of the program that computes the Body Mass Index (BMI) based on user input for weight and height.\n",
        "\n",
        "It displays the calculated BMI value on the screen along with the corresponding weight category.\n",
        "\n",
        "# Usage\n",
        "To use the program\n",
        "\n",
        "Run the program in a Python environment.\n",
        "1. Enter your weight in kilograms when prompted.\n",
        "2. Enter your height in meters when prompted.\n",
        "3. The program will calculate the BMI and display it on the screen along with the weight category.\n",
        "\n",
        "# Code\n",
        "The program consists of the following components:\n",
        "\n",
        "`calculate_bmi(weight, height):` This function takes the weight and height as input parameters and calculates the BMI using the provided formula: weight (kg) / [height (m)]^2. It returns the calculated BMI value.\n",
        "\n",
        "`get_weight_category(bmi):` This function takes the calculated BMI as input and determines the weight category based on the BMI value. It returns a string indicating whether the BMI corresponds to underweight, healthy weight, or overweight.\n",
        "\n",
        "`main():` This is the main function that executes the program logic. It prompts the user to enter weight and height, calls the calculate_bmi and get_weight_category functions, and displays the calculated BMI value and weight category."
      ]
    },
    {
      "cell_type": "markdown",
      "metadata": {
        "id": "1HY8K7cv1pnK"
      },
      "source": [
        "Task 3\n",
        "\n",
        "Write a python program to simulate an online store. The program should begin by displaying a list of products and their prices. There should be a minimum of 4 products offered. The program should ask the user to choose a product and then ask the user to enter the quantity they require of that product. The program should then allow the user to keep choosing more products and quantities until they enter something to indicate they want to end the program (e.g. a given number or ‘q’ or ‘exit’). The program should then tell the user the total amount for the products they have selected."
      ]
    },
    {
      "cell_type": "code",
      "execution_count": null,
      "metadata": {
        "colab": {
          "base_uri": "https://localhost:8080/"
        },
        "id": "NPwA544W1q8N",
        "outputId": "e43e5cfb-5656-4528-9ce5-94cee80ad04d"
      },
      "outputs": [
        {
          "output_type": "stream",
          "name": "stdout",
          "text": [
            "Collecting pyfiglet\n",
            "  Downloading pyfiglet-1.0.2-py3-none-any.whl (1.1 MB)\n",
            "\u001b[2K     \u001b[90m━━━━━━━━━━━━━━━━━━━━━━━━━━━━━━━━━━━━━━━━\u001b[0m \u001b[32m1.1/1.1 MB\u001b[0m \u001b[31m10.0 MB/s\u001b[0m eta \u001b[36m0:00:00\u001b[0m\n",
            "\u001b[?25hInstalling collected packages: pyfiglet\n",
            "Successfully installed pyfiglet-1.0.2\n",
            "Collecting inquirer\n",
            "  Downloading inquirer-3.1.3-py3-none-any.whl (18 kB)\n",
            "Collecting blessed>=1.19.0 (from inquirer)\n",
            "  Downloading blessed-1.20.0-py2.py3-none-any.whl (58 kB)\n",
            "\u001b[2K     \u001b[90m━━━━━━━━━━━━━━━━━━━━━━━━━━━━━━━━━━━━━━━━\u001b[0m \u001b[32m58.4/58.4 kB\u001b[0m \u001b[31m2.8 MB/s\u001b[0m eta \u001b[36m0:00:00\u001b[0m\n",
            "\u001b[?25hCollecting python-editor>=1.0.4 (from inquirer)\n",
            "  Downloading python_editor-1.0.4-py3-none-any.whl (4.9 kB)\n",
            "Collecting readchar>=3.0.6 (from inquirer)\n",
            "  Downloading readchar-4.0.5-py3-none-any.whl (8.5 kB)\n",
            "Requirement already satisfied: wcwidth>=0.1.4 in /usr/local/lib/python3.10/dist-packages (from blessed>=1.19.0->inquirer) (0.2.6)\n",
            "Requirement already satisfied: six>=1.9.0 in /usr/local/lib/python3.10/dist-packages (from blessed>=1.19.0->inquirer) (1.16.0)\n",
            "Requirement already satisfied: setuptools>=41.0 in /usr/local/lib/python3.10/dist-packages (from readchar>=3.0.6->inquirer) (67.7.2)\n",
            "Installing collected packages: python-editor, readchar, blessed, inquirer\n",
            "Successfully installed blessed-1.20.0 inquirer-3.1.3 python-editor-1.0.4 readchar-4.0.5\n",
            "Requirement already satisfied: tabulate in /usr/local/lib/python3.10/dist-packages (0.9.0)\n",
            "\t**********************************************\n",
            "\t***        Welcome Task 8 Python Shop      ***\n",
            "                                             \n",
            "                                             \n",
            "\\\\    / /                            //  ) ) \n",
            " \\\\  / /           ___            __//__     \n",
            "  \\\\/ / //   / / ((   ) ) //   / / //        \n",
            "   / / //   / /   \\ \\    //   / / //         \n",
            "  / / ((___( ( //   ) ) ((___( ( //          \n",
            "\n",
            "\t**********************************************\n",
            "𝖂𝖊𝖑𝖈𝖔𝖒𝖊\n",
            "Welcome to the online Smart Phone store!\n",
            "These are the smart phones we offer:\n",
            "\n",
            "╒═════╤═════════════╤═══════════╤════════════╕\n",
            "│   # │ Name        │ £ Price   │ Awards     │\n",
            "╞═════╪═════════════╪═══════════╪════════════╡\n",
            "│   1 │ Iphone 12   │ £650      │ ⭐⭐⭐⭐   │\n",
            "├─────┼─────────────┼───────────┼────────────┤\n",
            "│   2 │ Iphone 14   │ £799      │ ⭐⭐⭐     │\n",
            "├─────┼─────────────┼───────────┼────────────┤\n",
            "│   3 │ Iphone SE   │ £150      │ ⭐⭐⭐⭐⭐ │\n",
            "├─────┼─────────────┼───────────┼────────────┤\n",
            "│   4 │ Samsung S21 │ £544      │ ⭐⭐       │\n",
            "╘═════╧═════════════╧═══════════╧════════════╛\n",
            "What would you like to buy (Enter product number or 'q' to quit): 1\n",
            "Enter the quantity: 5\n",
            "The price is: £3250.00\n",
            "Would you like to buy another item? (y/n): y\n",
            "What would you like to buy (Enter product number or 'q' to quit): q\n",
            "The total price of your basket is: £3250.00\n"
          ]
        }
      ],
      "source": [
        "\"\"\"\n",
        "Write a python program to simulate an online store. The program should begin by displaying\n",
        "a list of products and their prices. There should be a minimum of 4 products offered. The\n",
        "program should ask the user to choose a product and then ask the user to enter the quantity\n",
        "they require of that product. The program should then allow the user to keep choosing more\n",
        "products and quantities until they enter something to indicate they want to end the program\n",
        "(e.g. a given number or 'q' or 'exit'). The program should then tell the user the total\n",
        "amount for the products they have selected.\n",
        "\"\"\"\n",
        "!pip install pyfiglet\n",
        "!pip install inquirer\n",
        "!pip install tabulate\n",
        "import pyfiglet\n",
        "from tabulate import tabulate\n",
        "\n",
        "# Table of Products\n",
        "result = pyfiglet.figlet_format(\"Yusuf\", font=\"5lineoblique\")\n",
        "print(\"\\t**********************************************\")\n",
        "print(\"\\t***        Welcome Task 8 Python Shop      ***\")\n",
        "print(f\"{result}\")\n",
        "print(\"\\t**********************************************\")\n",
        "print(\"𝖂𝖊𝖑𝖈𝖔𝖒𝖊\")\n",
        "product_line = [\n",
        "    [1, 'Iphone 12', f'£{650}', '⭐⭐⭐⭐'],\n",
        "    [2, 'Iphone 14', f'£{799}', '⭐⭐⭐'],\n",
        "    [3, 'Iphone SE', f'£{150}', '⭐⭐⭐⭐⭐'],\n",
        "    [4, 'Samsung S21', f'£{544}', '⭐⭐']\n",
        "]\n",
        "\n",
        "print(\"Welcome to the online Smart Phone store!\\nThese are the smart phones we offer:\\n\")\n",
        "print(tabulate(product_line, headers=['#', 'Name', '£ Price', 'Awards'], tablefmt='fancy_grid'))\n",
        "\n",
        "buy_another_flag = True\n",
        "total_cost = 0\n",
        "\n",
        "while buy_another_flag:\n",
        "    product_choice = input(\"What would you like to buy (Enter product number or 'q' to quit): \")\n",
        "    if product_choice == 'q':\n",
        "        break\n",
        "\n",
        "    product_index = int(product_choice) - 1\n",
        "\n",
        "    if 0 <= product_index < len(product_line):\n",
        "        quantity = int(input(\"Enter the quantity: \"))\n",
        "        price = float(product_line[product_index][2].strip('£'))\n",
        "        subtotal = price * quantity\n",
        "        total_cost += subtotal\n",
        "\n",
        "        print(f\"The price is: £{subtotal:.2f}\")\n",
        "    else:\n",
        "        print(\"Invalid product number.\")\n",
        "\n",
        "    buy_another_choice = input(\"Would you like to buy another item? (y/n): \")\n",
        "    if buy_another_choice.lower() != 'y':\n",
        "        buy_another_flag = False\n",
        "\n",
        "print(f\"The total price of your basket is: £{total_cost:.2f}\")\n",
        "\n",
        "\n"
      ]
    },
    {
      "cell_type": "markdown",
      "metadata": {
        "id": "VZS_YWa6Rmo1"
      },
      "source": [
        "#Documentation: Product Cart Management System\n",
        "This documentation provides an overview and usage guide for the Python code snippet that implements a simple product cart management system. The system allows users to view available products, add items to their cart, and calculate the total cost of the selected products.\n",
        "\n",
        "##Functions\n",
        "`display_products(products)`:\n",
        "This function takes a dictionary of products as input and displays the available products and their corresponding prices.\n",
        "\n",
        "###Parameters\n",
        "* **'products'** (dictionary): A dictionary where the keys represent product\n",
        "names, and the values represent their prices. <br>\n",
        "####Example:\n",
        "```\n",
        "# python\n",
        "products = {\n",
        "    \"Product 1\": 10,\n",
        "    \"Product 2\": 20,\n",
        "    \"Product 3\": 15,\n",
        "    \"Product 4\": 25\n",
        "}\n",
        "display_products(products)\n",
        "```\n",
        "####Output\n",
        "```\n",
        "# bash\n",
        "Available Products:\n",
        "Product 1 - $10\n",
        "Product 2 - $20\n",
        "Product 3 - $15\n",
        "Product 4 - $25\n",
        "```\n",
        "`calculate_total(products, cart)`:\n",
        "This function calculates the total cost of the products in the cart based on the provided products and quantities.\n",
        "\n",
        "###Parameters\n",
        "* **'products'** (dictionary): A dictionary where the keys represent product names, and the values represent their prices.\n",
        "* **'cart'** (dictionary): A dictionary where the keys represent product names, and the values represent the quantities of each product in the cart.\n",
        "\n",
        "###Returns\n",
        "* **'total'** (float): The total cost of the products in the cart.\n",
        "###Example\n",
        "```\n",
        "# python\n",
        "products = {\n",
        "    \"Product 1\": 10,\n",
        "    \"Product 2\": 20,\n",
        "    \"Product 3\": 15,\n",
        "    \"Product 4\": 25\n",
        "}\n",
        "cart = {\n",
        "    \"Product 1\": 2,\n",
        "    \"Product 3\": 1\n",
        "}\n",
        "total = calculate_total(products, cart)\n",
        "print(f\"Total amount for the selected products: ${total}\")\n",
        "```\n",
        "###Output\n",
        "```\n",
        "# bash\n",
        "Total amount for the selected products: $35.0\n",
        "```\n",
        "\n",
        "### 'main()'\n",
        "The main function of the program that orchestrates the product cart management system. It initializes the products and cart dictionaries, displays the available products, prompts the user for product choices and quantities, and calculates the total cost.\n",
        "\n",
        "####Example\n",
        "```\n",
        "# python\n",
        "if __name__ == '__main__':\n",
        "    main()\n",
        "```\n",
        "\n",
        "##Usage\n",
        "1. Define the products and their prices in the products dictionary.\n",
        "2. Call the display_products(products) function to show the available products and their prices.\n",
        "3. Enter the product you want to purchase when prompted, or enter 'q', 'quit', or 'exit' to exit the program.\n",
        "4. If a valid product choice is entered, provide the quantity of the product.\n",
        "5. The program will continue prompting for product choices until the user decides to quit.\n",
        "6. After exiting the product selection loop, the program will calculate and display the total cost of the selected products.\n",
        "\n",
        "####Example Output\n",
        "```\n",
        "Available Products:\n",
        "Product 1 - $10\n",
        "Product 2 - $20\n",
        "Product 3 - $15\n",
        "Product 4 - $25\n",
        "\n",
        "Enter the product you want to purchase (or 'q' to quit): Product 1\n",
        "Enter the quantity: 2\n",
        "Enter the product you want to purchase (or 'q' to quit): Product 3\n",
        "Enter the quantity: 1\n",
        "Enter the product you want to purchase (or 'q' to quit): q\n",
        "\n",
        "Total amount for the selected products: $35.0\n",
        "```\n",
        "This concludes the documentation for the provided Python code implementing a product cart management system."
      ]
    },
    {
      "cell_type": "markdown",
      "metadata": {
        "id": "hkPfM0Py2CB2"
      },
      "source": [
        "**Task** 4"
      ]
    },
    {
      "cell_type": "code",
      "execution_count": null,
      "metadata": {
        "colab": {
          "base_uri": "https://localhost:8080/"
        },
        "id": "-6x1mObQ2DCF",
        "outputId": "301ea186-9bf8-432c-d935-bce8e60218db"
      },
      "outputs": [
        {
          "name": "stdout",
          "output_type": "stream",
          "text": [
            "Enter a vote (or -1 to finish): Yusuf\n",
            "Enter a vote (or -1 to finish): Aras\n",
            "Enter a vote (or -1 to finish): Aras\n",
            "Enter a vote (or -1 to finish): Yusuf\n",
            "Enter a vote (or -1 to finish): -1\n",
            "Vote tally:\n",
            "Yusuf: 2 votes\n",
            "Aras: 2 votes\n",
            "It's a tie! The winners are:\n",
            "Yusuf with 2 votes.\n",
            "Aras with 2 votes.\n"
          ]
        }
      ],
      "source": [
        "from collections import Counter\n",
        "\n",
        "def tally_votes():\n",
        "    # Ask for votes until the user decides to finish\n",
        "    votes = iter(lambda: input(\"Enter a vote (or -1 to finish): \"), \"-1\")\n",
        "    votes_count = Counter(votes)\n",
        "\n",
        "    # Check if any votes were cast\n",
        "    if len(votes_count) == 0:\n",
        "        print(\"No votes were cast.\")\n",
        "    else:\n",
        "        # Find the maximum number of votes\n",
        "        max_votes = max(votes_count.values())\n",
        "        # Find the candidates with the maximum votes (potential winners)\n",
        "        winners = [candidate for candidate, vote_count in votes_count.items() if vote_count == max_votes]\n",
        "\n",
        "        # Display the vote tally for all candidates\n",
        "        print(\"Vote tally:\")\n",
        "        for candidate, vote_count in votes_count.items():\n",
        "            print(f\"{candidate}: {vote_count} votes\")\n",
        "\n",
        "        # Check if there is a single winner or a tie\n",
        "        if len(winners) == 1:\n",
        "            # Display the winner's name and vote count\n",
        "            print(f\"The winner is {winners[0]} with {max_votes} votes.\")\n",
        "        else:\n",
        "            # Display the tied winners' names and vote count\n",
        "            print(\"It's a tie! The winners are:\")\n",
        "            for winner in winners:\n",
        "                print(f\"{winner} with {max_votes} votes.\")\n",
        "\n",
        "tally_votes()\n",
        "\n"
      ]
    },
    {
      "cell_type": "markdown",
      "metadata": {
        "id": "_Llw5ABr_8K7"
      },
      "source": [
        "#Function Documentation: tally_write_in_election()\n",
        "The `tally_write_in_election()` function is designed to tally votes in a write-in election. It prompts the user to enter votes until they indicate that they have finished by entering \"-1\". The function keeps track of the number of votes received for each candidate and determines the winner(s) based on the maximum number of votes.\n",
        "\n",
        "##Parameters:\n",
        "This function does not accept any parameters.\n",
        "\n",
        "##Returns:\n",
        "This function does not return any value. It displays the vote tally and winner(s) on the console.\n",
        "\n",
        "##Usage:\n",
        "To use the tally_write_in_election() function, simply call it in your Python program or script:\n",
        "\n",
        "```\n",
        "#python\n",
        "tally_write_in_election()\n",
        "```\n",
        "###Example:\n",
        "```\n",
        "#python\n",
        "# Example usage of tally_write_in_election() function\n",
        "tally_write_in_election()\n",
        "```\n",
        "###Output:\n",
        "```\n",
        "Enter a vote (or -1 to finish): John Doe\n",
        "Enter a vote (or -1 to finish): Jane Smith\n",
        "Enter a vote (or -1 to finish): John Doe\n",
        "Enter a vote (or -1 to finish): Jane Smith\n",
        "Enter a vote (or -1 to finish): John Doe\n",
        "Enter a vote (or -1 to finish): -1\n",
        "\n",
        "Vote tally:\n",
        "John Doe: 3 votes\n",
        "Jane Smith: 2 votes\n",
        "\n",
        "The winner is John Doe with 3 votes.\n",
        "```\n",
        "##Detailed Explanation:\n",
        "1. The function initializes two empty lists, ***'names'*** and ***'count'***, to store the candidate names and the corresponding vote counts, respectively.\n",
        "\n",
        "2. A while loop is used to continuously prompt the user for votes until they enter \"-1\" or leave the input empty. This loop breaks when the user indicates the end of voting.\n",
        "\n",
        "3. Inside the loop, the function checks if the entered vote is already in the ***'names'*** list. If so, it finds the index of the candidate in the list and increments the corresponding vote count in the ***'count'*** list.\n",
        "\n",
        "4. If the entered vote is not in the ***'names'*** list, it adds the candidate name to the ***'names'*** list and initializes their vote count to 1 in the ***'count'*** list.\n",
        "\n",
        "5. After the voting process, the function checks if any votes were cast by verifying the length of the ***'names'*** list. If the list is empty, it displays a message indicating that no votes were cast.\n",
        "\n",
        "6. If votes were cast, the function determines the maximum number of votes received using the ***'max()'*** function on the ***'count'*** list. It then identifies the ***'winner(s)'*** by creating a list, winners, containing the names of candidates whose vote count matches the maximum votes.\n",
        "\n",
        "7. The function proceeds to display the vote tally by iterating over the **'names'*** and ***'count'*** lists simultaneously using the ***'zip()'*** function. It prints each candidate's name and their corresponding vote count.\n",
        "\n",
        "8. Finally, the function checks the length of the ***'winners'*** list. If there is only one winner, it displays a message announcing the winner's name and the number of votes they received. If there is a tie between multiple winners, it prints a message indicating a tie and lists the winners' names along with the maximum vote count."
      ]
    },
    {
      "cell_type": "markdown",
      "metadata": {
        "id": "-xYQXQEDCs0d"
      },
      "source": [
        "Task 5\n",
        "\n",
        "Design a class named Account that contains:\n",
        "\n",
        "* A private int data field named id for the account (default 0).\n",
        "* A private double data field named balance for the account (default 0).\n",
        "* A private double data field named annualInterestRate that stores the current interest rate (default 0). Assume all accounts have the same interest rate.\n",
        "* A private Date data field named dateCreated that stores the date when the account was created.\n",
        "* A no-argument constructor that creates a default account.\n",
        "* A constructor that creates an account with the specified id and initial balance.\n",
        "* The accessor and mutator methods for id, balance, and annualInterestRate.\n",
        "* The accessor method for dateCreated.\n",
        "* A method named getMonthlyInterestRate() that returns the monthly interest rate.\n",
        "* A method named withdraw that withdraws a specified amount from the account.\n",
        "* A method named deposit that deposits a specified amount to the account.\n",
        "* Draw the UML diagram for the class.\n",
        "* Implement the class.\n",
        "\n",
        "Write a python code that creates an Account object with an account ID of 1122, a balance of $20,000, and an annual interest rate of 4.5%. Use the withdraw method to withdraw $2,500, use the deposit method to deposit $3,000, and print the balance, the monthly interest, and the date when this account was created."
      ]
    },
    {
      "cell_type": "markdown",
      "metadata": {
        "id": "KxjZ4zpwKdKl"
      },
      "source": [
        "# Account Class Documentation\n",
        "## Introduction\n",
        "\n",
        "The Account class represents a bank account and provides methods to perform various operations such as withdrawals, deposits, and accessing account information. This class follows the principles of Object-Oriented Programming (OOP) and encapsulates the account data and operations within its own scope.\n",
        "\n",
        "###Usage\n",
        "To use the Account class, you need to import the datetime module and create an instance of the Account class. Then, you can call the methods on the instance to perform desired operations on the account.\n",
        "\n",
        "```\n",
        "#python\n",
        "import datetime\n",
        "\n",
        "# Create an instance of the Account class\n",
        "account = Account(1122, 20000)\n",
        "\n",
        "# Perform operations on the account\n",
        "account.withdraw(2500)\n",
        "account.deposit(3000)\n",
        "\n",
        "# Access account information\n",
        "print(\"Account Balance:\", account.get_balance())\n",
        "print(\"Monthly Interest Rate:\", account.get_monthly_interest_rate())\n",
        "print(\"Date Created:\", account.get_date_created())\n",
        "```\n",
        "### ***'Class Account'***\n",
        "####Constructor\n",
        "The Account class has a constructor that initializes the account object with the given id and balance values. If no values are provided, the default values are set to 0. Additionally, the __annualInterestRate is set to 0, and the __dateCreated attribute is set to the current date and time using the datetime.datetime.now() method.\n",
        "\n",
        "```\n",
        "# python\n",
        "def __init__(self, id=0, balance=0):\n",
        "    \"\"\"\n",
        "    Initializes a new instance of the Account class.\n",
        "\n",
        "    Parameters:\n",
        "        id (int): The account ID (default: 0).\n",
        "        balance (float): The initial account balance (default: 0).\n",
        "    \"\"\"\n",
        "  ```\n",
        "####Getters and Setters\n",
        "The Account class provides getter and setter methods for accessing and modifying the private attributes of the account object.\n",
        "\n",
        "`get_id()`\n",
        "```\n",
        "# python\n",
        "def get_id(self):\n",
        "    \"\"\"\n",
        "    Retrieves the account ID.\n",
        "\n",
        "    Returns:\n",
        "        int: The account ID.\n",
        "    \"\"\"\n",
        "  ```\n",
        "`set_id(id)`\n",
        "```\n",
        "#python\n",
        "def set_id(self, id):\n",
        "    \"\"\"\n",
        "    Sets the account ID.\n",
        "\n",
        "    Parameters:\n",
        "        id (int): The new account ID.\n",
        "    \"\"\"\n",
        "```\n",
        "`get_balance()`\n",
        "```\n",
        "# python\n",
        "def get_balance(self):\n",
        "    \"\"\"\n",
        "    Retrieves the account balance.\n",
        "\n",
        "    Returns:\n",
        "        float: The account balance.\n",
        "    \"\"\"\n",
        "```\n",
        "`set_balance(balance)`\n",
        "```\n",
        "#python\n",
        "def set_balance(self, balance):\n",
        "    \"\"\"\n",
        "    Sets the account balance.\n",
        "\n",
        "    Parameters:\n",
        "        balance (float): The new account balance.\n",
        "    \"\"\"\n",
        "```\n",
        "`get_annual_interest_rate()`\n",
        "```\n",
        "# python\n",
        "def get_annual_interest_rate(self):\n",
        "    \"\"\"\n",
        "    Retrieves the annual interest rate.\n",
        "\n",
        "    Returns:\n",
        "        float: The annual interest rate.\n",
        "    \"\"\"\n",
        "```\n",
        "`set_annual_interest_rate(annualInterestRate)`\n",
        "```\n",
        "# python\n",
        "def set_annual_interest_rate(self, annualInterestRate):\n",
        "    \"\"\"\n",
        "    Sets the annual interest rate.\n",
        "\n",
        "    Parameters:\n",
        "        annualInterestRate (float): The new annual interest rate.\n",
        "    \"\"\"\n",
        "```\n",
        "`get_date_created()`\n",
        "```\n",
        "#python\n",
        "def get_date_created(self):\n",
        "    \"\"\"\n",
        "    Retrieves the date and time the account was created.\n",
        "\n",
        "    Returns:\n",
        "        datetime.datetime: The date and time the account was created.\n",
        "    \"\"\"\n",
        "```\n",
        "#####Other Methods\n",
        "`get_monthly_interest_rate()`\n",
        "```\n",
        "#python\n",
        "def get_monthly_interest_rate(self):\n",
        "    \"\"\"\n",
        "    Calculates and retrieves the monthly interest rate.\n",
        "\n",
        "    Returns:\n",
        "        float: The monthly interest rate.\n",
        "    \"\"\"\n",
        "```\n",
        "`withdraw(amount)`\n",
        "```\n",
        "#python\n",
        "def withdraw(self, amount):\n",
        "    \"\"\"\n",
        "    Withdraws the specified amount from the account.\n",
        "\n",
        "    If the account balance is less than the withdrawal amount, an \"Insufficient funds.\" message is printed.\n",
        "\n",
        "    Parameters:\n",
        "        amount (float): The amount to be withdrawn.\n",
        "    \"\"\"\n",
        "```\n",
        "`deposit(amount)`\n",
        "```\n",
        "#python\n",
        "\n",
        "def deposit(self, amount):\n",
        "    \"\"\"\n",
        "    Deposits the specified amount into the account.\n",
        "\n",
        "    Parameters:\n",
        "        amount (float): The amount to be deposited.\n",
        "    \"\"\"\n",
        "```\n",
        "\n",
        "The Account class provides a simple implementation of a bank account using Object-Oriented Programming principles. It encapsulates the account data and operations, allowing for better organization and reusability of code. By using this class, you can easily create and manage bank accounts, perform withdrawals and deposits, and access relevant account information."
      ]
    },
    {
      "cell_type": "markdown",
      "metadata": {
        "id": "WMkdFlPQMckT"
      },
      "source": [
        "#Numpy\n",
        "\n",
        "It is a Python library that provides a **multidimensional array object, including mathematical, logical, matrix manipulation, sorting, I/O, discrete Fourier transforms, basic linear algebra, basic statistical operations, random simulation and much more.**"
      ]
    },
    {
      "cell_type": "code",
      "execution_count": null,
      "metadata": {
        "colab": {
          "base_uri": "https://localhost:8080/"
        },
        "id": "PIbna5sJCrTH",
        "outputId": "c65fbfd1-a443-421b-c387-420a733535df"
      },
      "outputs": [
        {
          "name": "stdout",
          "output_type": "stream",
          "text": [
            "New balance:  23000\n",
            "Name:  Yusuf Enes Aras\n",
            "ID:  1120\n",
            "Balance:  23000\n",
            "Interest rate:  0.0375\n",
            "Created on:  2023-07-14 14:46:12.613362\n",
            "\n",
            "\n",
            "New balance:  20500\n",
            "Name:  Yusuf Enes Aras\n",
            "ID:  1120\n",
            "Balance:  20500\n",
            "Interest rate:  0.0375\n",
            "Created on:  2023-07-14 14:46:12.613362\n"
          ]
        }
      ],
      "source": [
        "import datetime\n",
        "\n",
        "class Account:\n",
        "    def __init__(self, name, id, balance, annualInterestRate):\n",
        "        self.name = name\n",
        "        self.id = id\n",
        "        self.balance = balance\n",
        "        self.annualInterestRate = annualInterestRate\n",
        "        self.dateCreated = datetime.datetime.today()\n",
        "\n",
        "    def accountInfo(self):\n",
        "        print(\"Name: \", self.name)\n",
        "        print(\"ID: \", self.id)\n",
        "        print(\"Balance: \", self.balance)\n",
        "        print(\"Interest rate: \", self.annualInterestRate / 12)\n",
        "        print(\"Created on: \", self.dateCreated)\n",
        "\n",
        "    def withdraw(self, amount):\n",
        "        if (self.balance - amount < 0):\n",
        "            print(\"Your balance is not good enough...\")\n",
        "        else:\n",
        "            self.balance -= amount\n",
        "            print('New balance: ', self.balance)\n",
        "\n",
        "    def deposit(self, amount):\n",
        "        self.balance += amount\n",
        "        print(\"New balance: \", self.balance)\n",
        "\n",
        "    def getAnnualInterestRate(self):\n",
        "        return self.annualInterestRate\n",
        "\n",
        "    def setAnnualInterestRate(self, annualInterestRate):\n",
        "        self.annualInterestRate = annualInterestRate\n",
        "\n",
        "\n",
        "account = Account(\"Yusuf Enes Aras\", 1120, 20000, 0.45)\n",
        "\n",
        "account.deposit(3000)\n",
        "account.accountInfo()\n",
        "print('\\n')\n",
        "account.withdraw(2500)\n",
        "account.accountInfo()\n",
        "\n"
      ]
    },
    {
      "cell_type": "code",
      "execution_count": null,
      "metadata": {
        "colab": {
          "base_uri": "https://localhost:8080/"
        },
        "id": "LDLgjKy4LJM6",
        "outputId": "09d620b7-f66f-4254-9c26-ca4759088edd"
      },
      "outputs": [
        {
          "name": "stdout",
          "output_type": "stream",
          "text": [
            "Requirement already satisfied: numpy in /usr/local/lib/python3.10/dist-packages (1.23.5)\n",
            "Shape: \n",
            " (3, 3) \n",
            "\n",
            "Array: \n",
            " [[1 2 3]\n",
            " [4 5 6]\n",
            " [7 8 9]] \n",
            "\n",
            "Zeros \n",
            " [[0. 0. 0. 0.]\n",
            " [0. 0. 0. 0.]] \n",
            "\n",
            "ones \n",
            " [[1. 1. 1. 1.]\n",
            " [1. 1. 1. 1.]] \n",
            "\n",
            "Identity \n",
            " [[1. 0. 0. 0.]\n",
            " [0. 1. 0. 0.]\n",
            " [0. 0. 1. 0.]\n",
            " [0. 0. 0. 1.]] \n",
            "\n"
          ]
        }
      ],
      "source": [
        "!pip install numpy\n",
        "\n",
        "import numpy as np\n",
        "\n",
        "arr = np.array([[1,2,3],[4,5,6],[7,8,9]], '\\n')\n",
        "print('Shape:','\\n',arr.shape,'\\n')\n",
        "print('Array:','\\n',arr,'\\n')\n",
        "\n",
        "zeros = np.zeros((2,4))\n",
        "ones = np.ones((2,4))\n",
        "iden = np.identity(4)\n",
        "\n",
        "print('Zeros','\\n',zeros,'\\n')\n",
        "print('ones','\\n', ones,'\\n')\n",
        "print('Identity','\\n',iden,'\\n')"
      ]
    },
    {
      "cell_type": "markdown",
      "metadata": {
        "id": "C0tFsxNXLkK5"
      },
      "source": [
        "#Pandas\n",
        "It’s open source library for python programming languge for **data manipulation and analysis. In particular, it offers data structures and operations for manipulating numerical tables and time series.**"
      ]
    },
    {
      "cell_type": "code",
      "execution_count": null,
      "metadata": {
        "colab": {
          "base_uri": "https://localhost:8080/",
          "height": 282
        },
        "id": "TZRdCKUcMDc2",
        "outputId": "2059fa74-300f-4646-e3a7-478e5a9faccc"
      },
      "outputs": [
        {
          "name": "stdout",
          "output_type": "stream",
          "text": [
            "Requirement already satisfied: pandas in /usr/local/lib/python3.10/dist-packages (1.5.3)\n",
            "Requirement already satisfied: python-dateutil>=2.8.1 in /usr/local/lib/python3.10/dist-packages (from pandas) (2.8.2)\n",
            "Requirement already satisfied: pytz>=2020.1 in /usr/local/lib/python3.10/dist-packages (from pandas) (2023.3.post1)\n",
            "Requirement already satisfied: numpy>=1.21.0 in /usr/local/lib/python3.10/dist-packages (from pandas) (1.23.5)\n",
            "Requirement already satisfied: six>=1.5 in /usr/local/lib/python3.10/dist-packages (from python-dateutil>=2.8.1->pandas) (1.16.0)\n"
          ]
        },
        {
          "data": {
            "text/html": [
              "\n",
              "  <div id=\"df-8e08ca5e-66a1-4288-97d5-a2fd5604d92b\" class=\"colab-df-container\">\n",
              "    <div>\n",
              "<style scoped>\n",
              "    .dataframe tbody tr th:only-of-type {\n",
              "        vertical-align: middle;\n",
              "    }\n",
              "\n",
              "    .dataframe tbody tr th {\n",
              "        vertical-align: top;\n",
              "    }\n",
              "\n",
              "    .dataframe thead th {\n",
              "        text-align: right;\n",
              "    }\n",
              "</style>\n",
              "<table border=\"1\" class=\"dataframe\">\n",
              "  <thead>\n",
              "    <tr style=\"text-align: right;\">\n",
              "      <th></th>\n",
              "      <th>city</th>\n",
              "      <th>pop</th>\n",
              "    </tr>\n",
              "  </thead>\n",
              "  <tbody>\n",
              "    <tr>\n",
              "      <th>0</th>\n",
              "      <td>delhi</td>\n",
              "      <td>1232</td>\n",
              "    </tr>\n",
              "    <tr>\n",
              "      <th>1</th>\n",
              "      <td>mumbai</td>\n",
              "      <td>1809</td>\n",
              "    </tr>\n",
              "    <tr>\n",
              "      <th>2</th>\n",
              "      <td>chennai</td>\n",
              "      <td>1495</td>\n",
              "    </tr>\n",
              "    <tr>\n",
              "      <th>3</th>\n",
              "      <td>kolkata</td>\n",
              "      <td>1682</td>\n",
              "    </tr>\n",
              "  </tbody>\n",
              "</table>\n",
              "</div>\n",
              "    <div class=\"colab-df-buttons\">\n",
              "\n",
              "  <div class=\"colab-df-container\">\n",
              "    <button class=\"colab-df-convert\" onclick=\"convertToInteractive('df-8e08ca5e-66a1-4288-97d5-a2fd5604d92b')\"\n",
              "            title=\"Convert this dataframe to an interactive table.\"\n",
              "            style=\"display:none;\">\n",
              "\n",
              "  <svg xmlns=\"http://www.w3.org/2000/svg\" height=\"24px\" viewBox=\"0 -960 960 960\">\n",
              "    <path d=\"M120-120v-720h720v720H120Zm60-500h600v-160H180v160Zm220 220h160v-160H400v160Zm0 220h160v-160H400v160ZM180-400h160v-160H180v160Zm440 0h160v-160H620v160ZM180-180h160v-160H180v160Zm440 0h160v-160H620v160Z\"/>\n",
              "  </svg>\n",
              "    </button>\n",
              "\n",
              "  <style>\n",
              "    .colab-df-container {\n",
              "      display:flex;\n",
              "      gap: 12px;\n",
              "    }\n",
              "\n",
              "    .colab-df-convert {\n",
              "      background-color: #E8F0FE;\n",
              "      border: none;\n",
              "      border-radius: 50%;\n",
              "      cursor: pointer;\n",
              "      display: none;\n",
              "      fill: #1967D2;\n",
              "      height: 32px;\n",
              "      padding: 0 0 0 0;\n",
              "      width: 32px;\n",
              "    }\n",
              "\n",
              "    .colab-df-convert:hover {\n",
              "      background-color: #E2EBFA;\n",
              "      box-shadow: 0px 1px 2px rgba(60, 64, 67, 0.3), 0px 1px 3px 1px rgba(60, 64, 67, 0.15);\n",
              "      fill: #174EA6;\n",
              "    }\n",
              "\n",
              "    .colab-df-buttons div {\n",
              "      margin-bottom: 4px;\n",
              "    }\n",
              "\n",
              "    [theme=dark] .colab-df-convert {\n",
              "      background-color: #3B4455;\n",
              "      fill: #D2E3FC;\n",
              "    }\n",
              "\n",
              "    [theme=dark] .colab-df-convert:hover {\n",
              "      background-color: #434B5C;\n",
              "      box-shadow: 0px 1px 3px 1px rgba(0, 0, 0, 0.15);\n",
              "      filter: drop-shadow(0px 1px 2px rgba(0, 0, 0, 0.3));\n",
              "      fill: #FFFFFF;\n",
              "    }\n",
              "  </style>\n",
              "\n",
              "    <script>\n",
              "      const buttonEl =\n",
              "        document.querySelector('#df-8e08ca5e-66a1-4288-97d5-a2fd5604d92b button.colab-df-convert');\n",
              "      buttonEl.style.display =\n",
              "        google.colab.kernel.accessAllowed ? 'block' : 'none';\n",
              "\n",
              "      async function convertToInteractive(key) {\n",
              "        const element = document.querySelector('#df-8e08ca5e-66a1-4288-97d5-a2fd5604d92b');\n",
              "        const dataTable =\n",
              "          await google.colab.kernel.invokeFunction('convertToInteractive',\n",
              "                                                    [key], {});\n",
              "        if (!dataTable) return;\n",
              "\n",
              "        const docLinkHtml = 'Like what you see? Visit the ' +\n",
              "          '<a target=\"_blank\" href=https://colab.research.google.com/notebooks/data_table.ipynb>data table notebook</a>'\n",
              "          + ' to learn more about interactive tables.';\n",
              "        element.innerHTML = '';\n",
              "        dataTable['output_type'] = 'display_data';\n",
              "        await google.colab.output.renderOutput(dataTable, element);\n",
              "        const docLink = document.createElement('div');\n",
              "        docLink.innerHTML = docLinkHtml;\n",
              "        element.appendChild(docLink);\n",
              "      }\n",
              "    </script>\n",
              "  </div>\n",
              "\n",
              "\n",
              "<div id=\"df-eebbb482-d8ed-46de-aa61-648af9841f2e\">\n",
              "  <button class=\"colab-df-quickchart\" onclick=\"quickchart('df-eebbb482-d8ed-46de-aa61-648af9841f2e')\"\n",
              "            title=\"Suggest charts.\"\n",
              "            style=\"display:none;\">\n",
              "\n",
              "<svg xmlns=\"http://www.w3.org/2000/svg\" height=\"24px\"viewBox=\"0 0 24 24\"\n",
              "     width=\"24px\">\n",
              "    <g>\n",
              "        <path d=\"M19 3H5c-1.1 0-2 .9-2 2v14c0 1.1.9 2 2 2h14c1.1 0 2-.9 2-2V5c0-1.1-.9-2-2-2zM9 17H7v-7h2v7zm4 0h-2V7h2v10zm4 0h-2v-4h2v4z\"/>\n",
              "    </g>\n",
              "</svg>\n",
              "  </button>\n",
              "\n",
              "<style>\n",
              "  .colab-df-quickchart {\n",
              "      --bg-color: #E8F0FE;\n",
              "      --fill-color: #1967D2;\n",
              "      --hover-bg-color: #E2EBFA;\n",
              "      --hover-fill-color: #174EA6;\n",
              "      --disabled-fill-color: #AAA;\n",
              "      --disabled-bg-color: #DDD;\n",
              "  }\n",
              "\n",
              "  [theme=dark] .colab-df-quickchart {\n",
              "      --bg-color: #3B4455;\n",
              "      --fill-color: #D2E3FC;\n",
              "      --hover-bg-color: #434B5C;\n",
              "      --hover-fill-color: #FFFFFF;\n",
              "      --disabled-bg-color: #3B4455;\n",
              "      --disabled-fill-color: #666;\n",
              "  }\n",
              "\n",
              "  .colab-df-quickchart {\n",
              "    background-color: var(--bg-color);\n",
              "    border: none;\n",
              "    border-radius: 50%;\n",
              "    cursor: pointer;\n",
              "    display: none;\n",
              "    fill: var(--fill-color);\n",
              "    height: 32px;\n",
              "    padding: 0;\n",
              "    width: 32px;\n",
              "  }\n",
              "\n",
              "  .colab-df-quickchart:hover {\n",
              "    background-color: var(--hover-bg-color);\n",
              "    box-shadow: 0 1px 2px rgba(60, 64, 67, 0.3), 0 1px 3px 1px rgba(60, 64, 67, 0.15);\n",
              "    fill: var(--button-hover-fill-color);\n",
              "  }\n",
              "\n",
              "  .colab-df-quickchart-complete:disabled,\n",
              "  .colab-df-quickchart-complete:disabled:hover {\n",
              "    background-color: var(--disabled-bg-color);\n",
              "    fill: var(--disabled-fill-color);\n",
              "    box-shadow: none;\n",
              "  }\n",
              "\n",
              "  .colab-df-spinner {\n",
              "    border: 2px solid var(--fill-color);\n",
              "    border-color: transparent;\n",
              "    border-bottom-color: var(--fill-color);\n",
              "    animation:\n",
              "      spin 1s steps(1) infinite;\n",
              "  }\n",
              "\n",
              "  @keyframes spin {\n",
              "    0% {\n",
              "      border-color: transparent;\n",
              "      border-bottom-color: var(--fill-color);\n",
              "      border-left-color: var(--fill-color);\n",
              "    }\n",
              "    20% {\n",
              "      border-color: transparent;\n",
              "      border-left-color: var(--fill-color);\n",
              "      border-top-color: var(--fill-color);\n",
              "    }\n",
              "    30% {\n",
              "      border-color: transparent;\n",
              "      border-left-color: var(--fill-color);\n",
              "      border-top-color: var(--fill-color);\n",
              "      border-right-color: var(--fill-color);\n",
              "    }\n",
              "    40% {\n",
              "      border-color: transparent;\n",
              "      border-right-color: var(--fill-color);\n",
              "      border-top-color: var(--fill-color);\n",
              "    }\n",
              "    60% {\n",
              "      border-color: transparent;\n",
              "      border-right-color: var(--fill-color);\n",
              "    }\n",
              "    80% {\n",
              "      border-color: transparent;\n",
              "      border-right-color: var(--fill-color);\n",
              "      border-bottom-color: var(--fill-color);\n",
              "    }\n",
              "    90% {\n",
              "      border-color: transparent;\n",
              "      border-bottom-color: var(--fill-color);\n",
              "    }\n",
              "  }\n",
              "</style>\n",
              "\n",
              "  <script>\n",
              "    async function quickchart(key) {\n",
              "      const quickchartButtonEl =\n",
              "        document.querySelector('#' + key + ' button');\n",
              "      quickchartButtonEl.disabled = true;  // To prevent multiple clicks.\n",
              "      quickchartButtonEl.classList.add('colab-df-spinner');\n",
              "      try {\n",
              "        const charts = await google.colab.kernel.invokeFunction(\n",
              "            'suggestCharts', [key], {});\n",
              "      } catch (error) {\n",
              "        console.error('Error during call to suggestCharts:', error);\n",
              "      }\n",
              "      quickchartButtonEl.classList.remove('colab-df-spinner');\n",
              "      quickchartButtonEl.classList.add('colab-df-quickchart-complete');\n",
              "    }\n",
              "    (() => {\n",
              "      let quickchartButtonEl =\n",
              "        document.querySelector('#df-eebbb482-d8ed-46de-aa61-648af9841f2e button');\n",
              "      quickchartButtonEl.style.display =\n",
              "        google.colab.kernel.accessAllowed ? 'block' : 'none';\n",
              "    })();\n",
              "  </script>\n",
              "</div>\n",
              "    </div>\n",
              "  </div>\n"
            ],
            "text/plain": [
              "      city   pop\n",
              "0    delhi  1232\n",
              "1   mumbai  1809\n",
              "2  chennai  1495\n",
              "3  kolkata  1682"
            ]
          },
          "execution_count": 3,
          "metadata": {},
          "output_type": "execute_result"
        }
      ],
      "source": [
        "!pip install pandas\n",
        "\n",
        "import pandas as pd\n",
        "\n",
        "d = [{'city':'delhi','pop':'1232'},\n",
        "     {'city':'mumbai', 'pop':'1809'},\n",
        "     {'city':'chennai','pop':'1495'},\n",
        "     {'city':'kolkata','pop':'1682'}]\n",
        "\n",
        "pd.DataFrame(d)"
      ]
    },
    {
      "cell_type": "markdown",
      "metadata": {
        "id": "Ad6qrb7PMxqV"
      },
      "source": [
        "#Theano\n",
        "Theano is a numerical computation library for Python. In Theano, computations are expressed using a NumPy-esque syntax and compiled to run efficiently on either CPU or GPU architectures."
      ]
    },
    {
      "cell_type": "code",
      "execution_count": null,
      "metadata": {
        "colab": {
          "base_uri": "https://localhost:8080/",
          "height": 949
        },
        "id": "XZ72yGsRM3Ub",
        "outputId": "4e219bf7-a3ca-4c02-85b8-32eff77b8994"
      },
      "outputs": [
        {
          "name": "stdout",
          "output_type": "stream",
          "text": [
            "Requirement already satisfied: numpy in /usr/local/lib/python3.10/dist-packages (1.23.5)\n",
            "Found existing installation: Theano 1.0.5\n",
            "Uninstalling Theano-1.0.5:\n",
            "  Would remove:\n",
            "    /usr/local/bin/theano-cache\n",
            "    /usr/local/bin/theano-nose\n",
            "    /usr/local/lib/python3.10/dist-packages/Theano-1.0.5.dist-info/*\n",
            "    /usr/local/lib/python3.10/dist-packages/bin/*\n",
            "    /usr/local/lib/python3.10/dist-packages/theano/*\n",
            "  Would not remove (might be manually added):\n",
            "    /usr/local/lib/python3.10/dist-packages/bin/pytensor-cache\n",
            "    /usr/local/lib/python3.10/dist-packages/bin/pytensor_cache.py\n",
            "Proceed (Y/n)? y\n",
            "  Successfully uninstalled Theano-1.0.5\n",
            "Collecting theano\n",
            "  Using cached Theano-1.0.5-py3-none-any.whl\n",
            "Requirement already satisfied: numpy>=1.9.1 in /usr/local/lib/python3.10/dist-packages (from theano) (1.23.5)\n",
            "Requirement already satisfied: scipy>=0.14 in /usr/local/lib/python3.10/dist-packages (from theano) (1.10.1)\n",
            "Requirement already satisfied: six>=1.9.0 in /usr/local/lib/python3.10/dist-packages (from theano) (1.16.0)\n",
            "Installing collected packages: theano\n",
            "Successfully installed theano-1.0.5\n",
            "\u001b[31mERROR: Could not find a version that satisfies the requirement blas (from versions: none)\u001b[0m\u001b[31m\n",
            "\u001b[0m\u001b[31mERROR: No matching distribution found for blas\u001b[0m\u001b[31m\n",
            "\u001b[0m"
          ]
        },
        {
          "ename": "AttributeError",
          "evalue": "ignored",
          "output_type": "error",
          "traceback": [
            "\u001b[0;31m---------------------------------------------------------------------------\u001b[0m",
            "\u001b[0;31mNoSectionError\u001b[0m                            Traceback (most recent call last)",
            "\u001b[0;32m/usr/local/lib/python3.10/dist-packages/theano/configparser.py\u001b[0m in \u001b[0;36mfetch_val_for_key\u001b[0;34m(key, delete_key)\u001b[0m\n\u001b[1;32m    167\u001b[0m         \u001b[0;32mtry\u001b[0m\u001b[0;34m:\u001b[0m\u001b[0;34m\u001b[0m\u001b[0;34m\u001b[0m\u001b[0m\n\u001b[0;32m--> 168\u001b[0;31m             \u001b[0;32mreturn\u001b[0m \u001b[0mtheano_cfg\u001b[0m\u001b[0;34m.\u001b[0m\u001b[0mget\u001b[0m\u001b[0;34m(\u001b[0m\u001b[0msection\u001b[0m\u001b[0;34m,\u001b[0m \u001b[0moption\u001b[0m\u001b[0;34m)\u001b[0m\u001b[0;34m\u001b[0m\u001b[0;34m\u001b[0m\u001b[0m\n\u001b[0m\u001b[1;32m    169\u001b[0m         \u001b[0;32mexcept\u001b[0m \u001b[0mConfigParser\u001b[0m\u001b[0;34m.\u001b[0m\u001b[0mInterpolationError\u001b[0m\u001b[0;34m:\u001b[0m\u001b[0;34m\u001b[0m\u001b[0;34m\u001b[0m\u001b[0m\n",
            "\u001b[0;32m/usr/lib/python3.10/configparser.py\u001b[0m in \u001b[0;36mget\u001b[0;34m(self, section, option, raw, vars, fallback)\u001b[0m\n\u001b[1;32m    782\u001b[0m         \u001b[0;32mtry\u001b[0m\u001b[0;34m:\u001b[0m\u001b[0;34m\u001b[0m\u001b[0;34m\u001b[0m\u001b[0m\n\u001b[0;32m--> 783\u001b[0;31m             \u001b[0md\u001b[0m \u001b[0;34m=\u001b[0m \u001b[0mself\u001b[0m\u001b[0;34m.\u001b[0m\u001b[0m_unify_values\u001b[0m\u001b[0;34m(\u001b[0m\u001b[0msection\u001b[0m\u001b[0;34m,\u001b[0m \u001b[0mvars\u001b[0m\u001b[0;34m)\u001b[0m\u001b[0;34m\u001b[0m\u001b[0;34m\u001b[0m\u001b[0m\n\u001b[0m\u001b[1;32m    784\u001b[0m         \u001b[0;32mexcept\u001b[0m \u001b[0mNoSectionError\u001b[0m\u001b[0;34m:\u001b[0m\u001b[0;34m\u001b[0m\u001b[0;34m\u001b[0m\u001b[0m\n",
            "\u001b[0;32m/usr/lib/python3.10/configparser.py\u001b[0m in \u001b[0;36m_unify_values\u001b[0;34m(self, section, vars)\u001b[0m\n\u001b[1;32m   1153\u001b[0m             \u001b[0;32mif\u001b[0m \u001b[0msection\u001b[0m \u001b[0;34m!=\u001b[0m \u001b[0mself\u001b[0m\u001b[0;34m.\u001b[0m\u001b[0mdefault_section\u001b[0m\u001b[0;34m:\u001b[0m\u001b[0;34m\u001b[0m\u001b[0;34m\u001b[0m\u001b[0m\n\u001b[0;32m-> 1154\u001b[0;31m                 \u001b[0;32mraise\u001b[0m \u001b[0mNoSectionError\u001b[0m\u001b[0;34m(\u001b[0m\u001b[0msection\u001b[0m\u001b[0;34m)\u001b[0m \u001b[0;32mfrom\u001b[0m \u001b[0;32mNone\u001b[0m\u001b[0;34m\u001b[0m\u001b[0;34m\u001b[0m\u001b[0m\n\u001b[0m\u001b[1;32m   1155\u001b[0m         \u001b[0;31m# Update with the entry specific variables\u001b[0m\u001b[0;34m\u001b[0m\u001b[0;34m\u001b[0m\u001b[0m\n",
            "\u001b[0;31mNoSectionError\u001b[0m: No section: 'blas'",
            "\nDuring handling of the above exception, another exception occurred:\n",
            "\u001b[0;31mKeyError\u001b[0m                                  Traceback (most recent call last)",
            "\u001b[0;32m/usr/local/lib/python3.10/dist-packages/theano/configparser.py\u001b[0m in \u001b[0;36m__get__\u001b[0;34m(self, cls, type_, delete_key)\u001b[0m\n\u001b[1;32m    326\u001b[0m             \u001b[0;32mtry\u001b[0m\u001b[0;34m:\u001b[0m\u001b[0;34m\u001b[0m\u001b[0;34m\u001b[0m\u001b[0m\n\u001b[0;32m--> 327\u001b[0;31m                 val_str = fetch_val_for_key(self.fullname,\n\u001b[0m\u001b[1;32m    328\u001b[0m                                             delete_key=delete_key)\n",
            "\u001b[0;32m/usr/local/lib/python3.10/dist-packages/theano/configparser.py\u001b[0m in \u001b[0;36mfetch_val_for_key\u001b[0;34m(key, delete_key)\u001b[0m\n\u001b[1;32m    171\u001b[0m     \u001b[0;32mexcept\u001b[0m \u001b[0;34m(\u001b[0m\u001b[0mConfigParser\u001b[0m\u001b[0;34m.\u001b[0m\u001b[0mNoOptionError\u001b[0m\u001b[0;34m,\u001b[0m \u001b[0mConfigParser\u001b[0m\u001b[0;34m.\u001b[0m\u001b[0mNoSectionError\u001b[0m\u001b[0;34m)\u001b[0m\u001b[0;34m:\u001b[0m\u001b[0;34m\u001b[0m\u001b[0;34m\u001b[0m\u001b[0m\n\u001b[0;32m--> 172\u001b[0;31m         \u001b[0;32mraise\u001b[0m \u001b[0mKeyError\u001b[0m\u001b[0;34m(\u001b[0m\u001b[0mkey\u001b[0m\u001b[0;34m)\u001b[0m\u001b[0;34m\u001b[0m\u001b[0;34m\u001b[0m\u001b[0m\n\u001b[0m\u001b[1;32m    173\u001b[0m \u001b[0;34m\u001b[0m\u001b[0m\n",
            "\u001b[0;31mKeyError\u001b[0m: 'blas.ldflags'",
            "\nDuring handling of the above exception, another exception occurred:\n",
            "\u001b[0;31mAttributeError\u001b[0m                            Traceback (most recent call last)",
            "\u001b[0;32m<ipython-input-10-83827d413077>\u001b[0m in \u001b[0;36m<cell line: 9>\u001b[0;34m()\u001b[0m\n\u001b[1;32m      7\u001b[0m \u001b[0;34m\u001b[0m\u001b[0m\n\u001b[1;32m      8\u001b[0m \u001b[0;32mimport\u001b[0m \u001b[0mnumpy\u001b[0m\u001b[0;34m\u001b[0m\u001b[0;34m\u001b[0m\u001b[0m\n\u001b[0;32m----> 9\u001b[0;31m \u001b[0;32mimport\u001b[0m \u001b[0mtheano\u001b[0m\u001b[0;34m.\u001b[0m\u001b[0mtensor\u001b[0m \u001b[0;32mas\u001b[0m \u001b[0mT\u001b[0m\u001b[0;34m\u001b[0m\u001b[0;34m\u001b[0m\u001b[0m\n\u001b[0m\u001b[1;32m     10\u001b[0m \u001b[0;32mfrom\u001b[0m \u001b[0mtheano\u001b[0m \u001b[0;32mimport\u001b[0m \u001b[0mfunction\u001b[0m\u001b[0;34m\u001b[0m\u001b[0;34m\u001b[0m\u001b[0m\n\u001b[1;32m     11\u001b[0m \u001b[0;34m\u001b[0m\u001b[0m\n",
            "\u001b[0;32m/usr/local/lib/python3.10/dist-packages/theano/__init__.py\u001b[0m in \u001b[0;36m<module>\u001b[0;34m\u001b[0m\n\u001b[1;32m    122\u001b[0m \u001b[0;32mfrom\u001b[0m \u001b[0mtheano\u001b[0m\u001b[0;34m.\u001b[0m\u001b[0mprinting\u001b[0m \u001b[0;32mimport\u001b[0m \u001b[0mpprint\u001b[0m\u001b[0;34m,\u001b[0m \u001b[0mpp\u001b[0m\u001b[0;34m\u001b[0m\u001b[0;34m\u001b[0m\u001b[0m\n\u001b[1;32m    123\u001b[0m \u001b[0;34m\u001b[0m\u001b[0m\n\u001b[0;32m--> 124\u001b[0;31m from theano.scan_module import (scan, map, reduce, foldl, foldr, clone,\n\u001b[0m\u001b[1;32m    125\u001b[0m                                 scan_checkpoints)\n\u001b[1;32m    126\u001b[0m \u001b[0;34m\u001b[0m\u001b[0m\n",
            "\u001b[0;32m/usr/local/lib/python3.10/dist-packages/theano/scan_module/__init__.py\u001b[0m in \u001b[0;36m<module>\u001b[0;34m\u001b[0m\n\u001b[1;32m     39\u001b[0m \u001b[0m__contact__\u001b[0m \u001b[0;34m=\u001b[0m \u001b[0;34m\"Razvan Pascanu <r.pascanu@gmail>\"\u001b[0m\u001b[0;34m\u001b[0m\u001b[0;34m\u001b[0m\u001b[0m\n\u001b[1;32m     40\u001b[0m \u001b[0;34m\u001b[0m\u001b[0m\n\u001b[0;32m---> 41\u001b[0;31m \u001b[0;32mfrom\u001b[0m \u001b[0mtheano\u001b[0m\u001b[0;34m.\u001b[0m\u001b[0mscan_module\u001b[0m \u001b[0;32mimport\u001b[0m \u001b[0mscan_opt\u001b[0m\u001b[0;34m\u001b[0m\u001b[0;34m\u001b[0m\u001b[0m\n\u001b[0m\u001b[1;32m     42\u001b[0m \u001b[0;32mfrom\u001b[0m \u001b[0mtheano\u001b[0m\u001b[0;34m.\u001b[0m\u001b[0mscan_module\u001b[0m\u001b[0;34m.\u001b[0m\u001b[0mscan\u001b[0m \u001b[0;32mimport\u001b[0m \u001b[0mscan\u001b[0m\u001b[0;34m\u001b[0m\u001b[0;34m\u001b[0m\u001b[0m\n\u001b[1;32m     43\u001b[0m \u001b[0;32mfrom\u001b[0m \u001b[0mtheano\u001b[0m\u001b[0;34m.\u001b[0m\u001b[0mscan_module\u001b[0m\u001b[0;34m.\u001b[0m\u001b[0mscan_checkpoints\u001b[0m \u001b[0;32mimport\u001b[0m \u001b[0mscan_checkpoints\u001b[0m\u001b[0;34m\u001b[0m\u001b[0;34m\u001b[0m\u001b[0m\n",
            "\u001b[0;32m/usr/local/lib/python3.10/dist-packages/theano/scan_module/scan_opt.py\u001b[0m in \u001b[0;36m<module>\u001b[0;34m\u001b[0m\n\u001b[1;32m     58\u001b[0m \u001b[0;34m\u001b[0m\u001b[0m\n\u001b[1;32m     59\u001b[0m \u001b[0;32mimport\u001b[0m \u001b[0mtheano\u001b[0m\u001b[0;34m\u001b[0m\u001b[0;34m\u001b[0m\u001b[0m\n\u001b[0;32m---> 60\u001b[0;31m \u001b[0;32mfrom\u001b[0m \u001b[0mtheano\u001b[0m \u001b[0;32mimport\u001b[0m \u001b[0mtensor\u001b[0m\u001b[0;34m,\u001b[0m \u001b[0mscalar\u001b[0m\u001b[0;34m\u001b[0m\u001b[0;34m\u001b[0m\u001b[0m\n\u001b[0m\u001b[1;32m     61\u001b[0m \u001b[0;32mfrom\u001b[0m \u001b[0mtheano\u001b[0m\u001b[0;34m.\u001b[0m\u001b[0mtensor\u001b[0m \u001b[0;32mimport\u001b[0m \u001b[0mopt\u001b[0m\u001b[0;34m,\u001b[0m \u001b[0mget_scalar_constant_value\u001b[0m\u001b[0;34m,\u001b[0m \u001b[0mAlloc\u001b[0m\u001b[0;34m,\u001b[0m \u001b[0mAllocEmpty\u001b[0m\u001b[0;34m\u001b[0m\u001b[0;34m\u001b[0m\u001b[0m\n\u001b[1;32m     62\u001b[0m \u001b[0;32mfrom\u001b[0m \u001b[0mtheano\u001b[0m \u001b[0;32mimport\u001b[0m \u001b[0mgof\u001b[0m\u001b[0;34m\u001b[0m\u001b[0;34m\u001b[0m\u001b[0m\n",
            "\u001b[0;32m/usr/local/lib/python3.10/dist-packages/theano/tensor/__init__.py\u001b[0m in \u001b[0;36m<module>\u001b[0;34m\u001b[0m\n\u001b[1;32m     15\u001b[0m \u001b[0;32mfrom\u001b[0m \u001b[0mtheano\u001b[0m\u001b[0;34m.\u001b[0m\u001b[0mtensor\u001b[0m \u001b[0;32mimport\u001b[0m \u001b[0mopt\u001b[0m\u001b[0;34m\u001b[0m\u001b[0;34m\u001b[0m\u001b[0m\n\u001b[1;32m     16\u001b[0m \u001b[0;32mfrom\u001b[0m \u001b[0mtheano\u001b[0m\u001b[0;34m.\u001b[0m\u001b[0mtensor\u001b[0m \u001b[0;32mimport\u001b[0m \u001b[0mopt_uncanonicalize\u001b[0m\u001b[0;34m\u001b[0m\u001b[0;34m\u001b[0m\u001b[0m\n\u001b[0;32m---> 17\u001b[0;31m \u001b[0;32mfrom\u001b[0m \u001b[0mtheano\u001b[0m\u001b[0;34m.\u001b[0m\u001b[0mtensor\u001b[0m \u001b[0;32mimport\u001b[0m \u001b[0mblas\u001b[0m\u001b[0;34m\u001b[0m\u001b[0;34m\u001b[0m\u001b[0m\n\u001b[0m\u001b[1;32m     18\u001b[0m \u001b[0;32mfrom\u001b[0m \u001b[0mtheano\u001b[0m\u001b[0;34m.\u001b[0m\u001b[0mtensor\u001b[0m \u001b[0;32mimport\u001b[0m \u001b[0mblas_scipy\u001b[0m\u001b[0;34m\u001b[0m\u001b[0;34m\u001b[0m\u001b[0m\n\u001b[1;32m     19\u001b[0m \u001b[0;32mfrom\u001b[0m \u001b[0mtheano\u001b[0m\u001b[0;34m.\u001b[0m\u001b[0mtensor\u001b[0m \u001b[0;32mimport\u001b[0m \u001b[0mblas_c\u001b[0m\u001b[0;34m\u001b[0m\u001b[0;34m\u001b[0m\u001b[0m\n",
            "\u001b[0;32m/usr/local/lib/python3.10/dist-packages/theano/tensor/blas.py\u001b[0m in \u001b[0;36m<module>\u001b[0;34m\u001b[0m\n\u001b[1;32m    153\u001b[0m \u001b[0;32mfrom\u001b[0m \u001b[0mtheano\u001b[0m\u001b[0;34m.\u001b[0m\u001b[0mscalar\u001b[0m \u001b[0;32mimport\u001b[0m \u001b[0mbool\u001b[0m \u001b[0;32mas\u001b[0m \u001b[0mbool_t\u001b[0m\u001b[0;34m\u001b[0m\u001b[0;34m\u001b[0m\u001b[0m\n\u001b[1;32m    154\u001b[0m \u001b[0;32mfrom\u001b[0m \u001b[0mtheano\u001b[0m\u001b[0;34m.\u001b[0m\u001b[0mtensor\u001b[0m \u001b[0;32mimport\u001b[0m \u001b[0mbasic\u001b[0m \u001b[0;32mas\u001b[0m \u001b[0mT\u001b[0m\u001b[0;34m\u001b[0m\u001b[0;34m\u001b[0m\u001b[0m\n\u001b[0;32m--> 155\u001b[0;31m \u001b[0;32mfrom\u001b[0m \u001b[0mtheano\u001b[0m\u001b[0;34m.\u001b[0m\u001b[0mtensor\u001b[0m\u001b[0;34m.\u001b[0m\u001b[0mblas_headers\u001b[0m \u001b[0;32mimport\u001b[0m \u001b[0mblas_header_text\u001b[0m\u001b[0;34m\u001b[0m\u001b[0;34m\u001b[0m\u001b[0m\n\u001b[0m\u001b[1;32m    156\u001b[0m \u001b[0;32mfrom\u001b[0m \u001b[0mtheano\u001b[0m\u001b[0;34m.\u001b[0m\u001b[0mtensor\u001b[0m\u001b[0;34m.\u001b[0m\u001b[0mblas_headers\u001b[0m \u001b[0;32mimport\u001b[0m \u001b[0mblas_header_version\u001b[0m\u001b[0;34m\u001b[0m\u001b[0;34m\u001b[0m\u001b[0m\n\u001b[1;32m    157\u001b[0m \u001b[0;32mfrom\u001b[0m \u001b[0mtheano\u001b[0m\u001b[0;34m.\u001b[0m\u001b[0mtensor\u001b[0m\u001b[0;34m.\u001b[0m\u001b[0mopt\u001b[0m \u001b[0;32mimport\u001b[0m \u001b[0min2out\u001b[0m\u001b[0;34m,\u001b[0m \u001b[0mlocal_dimshuffle_lift\u001b[0m\u001b[0;34m\u001b[0m\u001b[0;34m\u001b[0m\u001b[0m\n",
            "\u001b[0;32m/usr/local/lib/python3.10/dist-packages/theano/tensor/blas_headers.py\u001b[0m in \u001b[0;36m<module>\u001b[0;34m\u001b[0m\n\u001b[1;32m    985\u001b[0m \u001b[0;34m\u001b[0m\u001b[0m\n\u001b[1;32m    986\u001b[0m \u001b[0;34m\u001b[0m\u001b[0m\n\u001b[0;32m--> 987\u001b[0;31m \u001b[0;32mif\u001b[0m \u001b[0;32mnot\u001b[0m \u001b[0mconfig\u001b[0m\u001b[0;34m.\u001b[0m\u001b[0mblas\u001b[0m\u001b[0;34m.\u001b[0m\u001b[0mldflags\u001b[0m\u001b[0;34m:\u001b[0m\u001b[0;34m\u001b[0m\u001b[0;34m\u001b[0m\u001b[0m\n\u001b[0m\u001b[1;32m    988\u001b[0m     \u001b[0m_logger\u001b[0m\u001b[0;34m.\u001b[0m\u001b[0mwarning\u001b[0m\u001b[0;34m(\u001b[0m\u001b[0;34m'Using NumPy C-API based implementation for BLAS functions.'\u001b[0m\u001b[0;34m)\u001b[0m\u001b[0;34m\u001b[0m\u001b[0;34m\u001b[0m\u001b[0m\n\u001b[1;32m    989\u001b[0m \u001b[0;34m\u001b[0m\u001b[0m\n",
            "\u001b[0;32m/usr/local/lib/python3.10/dist-packages/theano/configparser.py\u001b[0m in \u001b[0;36m__get__\u001b[0;34m(self, cls, type_, delete_key)\u001b[0m\n\u001b[1;32m    330\u001b[0m             \u001b[0;32mexcept\u001b[0m \u001b[0mKeyError\u001b[0m\u001b[0;34m:\u001b[0m\u001b[0;34m\u001b[0m\u001b[0;34m\u001b[0m\u001b[0m\n\u001b[1;32m    331\u001b[0m                 \u001b[0;32mif\u001b[0m \u001b[0mcallable\u001b[0m\u001b[0;34m(\u001b[0m\u001b[0mself\u001b[0m\u001b[0;34m.\u001b[0m\u001b[0mdefault\u001b[0m\u001b[0;34m)\u001b[0m\u001b[0;34m:\u001b[0m\u001b[0;34m\u001b[0m\u001b[0;34m\u001b[0m\u001b[0m\n\u001b[0;32m--> 332\u001b[0;31m                     \u001b[0mval_str\u001b[0m \u001b[0;34m=\u001b[0m \u001b[0mself\u001b[0m\u001b[0;34m.\u001b[0m\u001b[0mdefault\u001b[0m\u001b[0;34m(\u001b[0m\u001b[0;34m)\u001b[0m\u001b[0;34m\u001b[0m\u001b[0;34m\u001b[0m\u001b[0m\n\u001b[0m\u001b[1;32m    333\u001b[0m                 \u001b[0;32melse\u001b[0m\u001b[0;34m:\u001b[0m\u001b[0;34m\u001b[0m\u001b[0;34m\u001b[0m\u001b[0m\n\u001b[1;32m    334\u001b[0m                     \u001b[0mval_str\u001b[0m \u001b[0;34m=\u001b[0m \u001b[0mself\u001b[0m\u001b[0;34m.\u001b[0m\u001b[0mdefault\u001b[0m\u001b[0;34m\u001b[0m\u001b[0;34m\u001b[0m\u001b[0m\n",
            "\u001b[0;32m/usr/local/lib/python3.10/dist-packages/theano/configdefaults.py\u001b[0m in \u001b[0;36mdefault_blas_ldflags\u001b[0;34m()\u001b[0m\n\u001b[1;32m   1282\u001b[0m             \u001b[0;31m# If the old private interface is available use it as it\u001b[0m\u001b[0;34m\u001b[0m\u001b[0;34m\u001b[0m\u001b[0m\n\u001b[1;32m   1283\u001b[0m             \u001b[0;31m# don't print information to the user.\u001b[0m\u001b[0;34m\u001b[0m\u001b[0;34m\u001b[0m\u001b[0m\n\u001b[0;32m-> 1284\u001b[0;31m             \u001b[0mblas_info\u001b[0m \u001b[0;34m=\u001b[0m \u001b[0mnp\u001b[0m\u001b[0;34m.\u001b[0m\u001b[0mdistutils\u001b[0m\u001b[0;34m.\u001b[0m\u001b[0m__config__\u001b[0m\u001b[0;34m.\u001b[0m\u001b[0mblas_opt_info\u001b[0m\u001b[0;34m\u001b[0m\u001b[0;34m\u001b[0m\u001b[0m\n\u001b[0m\u001b[1;32m   1285\u001b[0m         \u001b[0;32melse\u001b[0m\u001b[0;34m:\u001b[0m\u001b[0;34m\u001b[0m\u001b[0;34m\u001b[0m\u001b[0m\n\u001b[1;32m   1286\u001b[0m             \u001b[0;31m# We do this import only here, as in some setup, if we\u001b[0m\u001b[0;34m\u001b[0m\u001b[0;34m\u001b[0m\u001b[0m\n",
            "\u001b[0;31mAttributeError\u001b[0m: module 'numpy.distutils.__config__' has no attribute 'blas_opt_info'"
          ]
        }
      ],
      "source": [
        "!pip install numpy\n",
        "!pip uninstall theano\n",
        "!pip install theano\n",
        "!pip install blas\n",
        "!export LDFLAGS=\"-L/usr/local/lib\"\n",
        "\n",
        "\n",
        "import numpy\n",
        "import theano.tensor as T\n",
        "from theano import function\n",
        "\n",
        "#0-dimensional arrays (scalar)\n",
        "x = T.dscalar('x')\n",
        "y = T.dscalar('y')\n",
        "z = x + y\n",
        "f = function([x, y], z)\n",
        "scalar = f(10,3)\n",
        "print(scalar)\n",
        "\n",
        "#2D arrays(matrix)\n",
        "w = T.dmatrix('w')\n",
        "p = T.dmatrix('p')\n",
        "s = w + p\n",
        "fun = function([w, p], s)\n",
        "fun([[1,2],[3,4]],[[10,20],[30,40]])"
      ]
    },
    {
      "cell_type": "markdown",
      "metadata": {
        "id": "etyIhdvsg_Ql"
      },
      "source": [
        "#Tensorflow\n",
        "TensorFlow is a **Machine Learning framework** created by Google for creating Deep Learning models. Deep Learning is a category of machine learning models that use multi-layer neural networks.\n",
        "\n"
      ]
    },
    {
      "cell_type": "code",
      "execution_count": null,
      "metadata": {
        "id": "e2jTblpwg-y0"
      },
      "outputs": [],
      "source": []
    },
    {
      "cell_type": "code",
      "execution_count": null,
      "metadata": {
        "colab": {
          "base_uri": "https://localhost:8080/"
        },
        "id": "I9VfRdGzkr4H",
        "outputId": "26a5f5da-4ae2-4707-f2b5-71dc66c104d8"
      },
      "outputs": [
        {
          "name": "stdout",
          "output_type": "stream",
          "text": [
            "Requirement already satisfied: tensorflow in /usr/local/lib/python3.10/dist-packages (2.12.0)\n",
            "Requirement already satisfied: absl-py>=1.0.0 in /usr/local/lib/python3.10/dist-packages (from tensorflow) (1.4.0)\n",
            "Requirement already satisfied: astunparse>=1.6.0 in /usr/local/lib/python3.10/dist-packages (from tensorflow) (1.6.3)\n",
            "Requirement already satisfied: flatbuffers>=2.0 in /usr/local/lib/python3.10/dist-packages (from tensorflow) (23.5.26)\n",
            "Requirement already satisfied: gast<=0.4.0,>=0.2.1 in /usr/local/lib/python3.10/dist-packages (from tensorflow) (0.4.0)\n",
            "Requirement already satisfied: google-pasta>=0.1.1 in /usr/local/lib/python3.10/dist-packages (from tensorflow) (0.2.0)\n",
            "Requirement already satisfied: grpcio<2.0,>=1.24.3 in /usr/local/lib/python3.10/dist-packages (from tensorflow) (1.57.0)\n",
            "Requirement already satisfied: h5py>=2.9.0 in /usr/local/lib/python3.10/dist-packages (from tensorflow) (3.9.0)\n",
            "Requirement already satisfied: jax>=0.3.15 in /usr/local/lib/python3.10/dist-packages (from tensorflow) (0.4.14)\n",
            "Requirement already satisfied: keras<2.13,>=2.12.0 in /usr/local/lib/python3.10/dist-packages (from tensorflow) (2.12.0)\n",
            "Requirement already satisfied: libclang>=13.0.0 in /usr/local/lib/python3.10/dist-packages (from tensorflow) (16.0.6)\n",
            "Requirement already satisfied: numpy<1.24,>=1.22 in /usr/local/lib/python3.10/dist-packages (from tensorflow) (1.23.5)\n",
            "Requirement already satisfied: opt-einsum>=2.3.2 in /usr/local/lib/python3.10/dist-packages (from tensorflow) (3.3.0)\n",
            "Requirement already satisfied: packaging in /usr/local/lib/python3.10/dist-packages (from tensorflow) (23.1)\n",
            "Requirement already satisfied: protobuf!=4.21.0,!=4.21.1,!=4.21.2,!=4.21.3,!=4.21.4,!=4.21.5,<5.0.0dev,>=3.20.3 in /usr/local/lib/python3.10/dist-packages (from tensorflow) (3.20.3)\n",
            "Requirement already satisfied: setuptools in /usr/local/lib/python3.10/dist-packages (from tensorflow) (67.7.2)\n",
            "Requirement already satisfied: six>=1.12.0 in /usr/local/lib/python3.10/dist-packages (from tensorflow) (1.16.0)\n",
            "Requirement already satisfied: tensorboard<2.13,>=2.12 in /usr/local/lib/python3.10/dist-packages (from tensorflow) (2.12.3)\n",
            "Requirement already satisfied: tensorflow-estimator<2.13,>=2.12.0 in /usr/local/lib/python3.10/dist-packages (from tensorflow) (2.12.0)\n",
            "Requirement already satisfied: termcolor>=1.1.0 in /usr/local/lib/python3.10/dist-packages (from tensorflow) (2.3.0)\n",
            "Requirement already satisfied: typing-extensions>=3.6.6 in /usr/local/lib/python3.10/dist-packages (from tensorflow) (4.7.1)\n",
            "Requirement already satisfied: wrapt<1.15,>=1.11.0 in /usr/local/lib/python3.10/dist-packages (from tensorflow) (1.14.1)\n",
            "Requirement already satisfied: tensorflow-io-gcs-filesystem>=0.23.1 in /usr/local/lib/python3.10/dist-packages (from tensorflow) (0.33.0)\n",
            "Requirement already satisfied: wheel<1.0,>=0.23.0 in /usr/local/lib/python3.10/dist-packages (from astunparse>=1.6.0->tensorflow) (0.41.2)\n",
            "Requirement already satisfied: ml-dtypes>=0.2.0 in /usr/local/lib/python3.10/dist-packages (from jax>=0.3.15->tensorflow) (0.2.0)\n",
            "Requirement already satisfied: scipy>=1.7 in /usr/local/lib/python3.10/dist-packages (from jax>=0.3.15->tensorflow) (1.10.1)\n",
            "Requirement already satisfied: google-auth<3,>=1.6.3 in /usr/local/lib/python3.10/dist-packages (from tensorboard<2.13,>=2.12->tensorflow) (2.17.3)\n",
            "Requirement already satisfied: google-auth-oauthlib<1.1,>=0.5 in /usr/local/lib/python3.10/dist-packages (from tensorboard<2.13,>=2.12->tensorflow) (1.0.0)\n",
            "Requirement already satisfied: markdown>=2.6.8 in /usr/local/lib/python3.10/dist-packages (from tensorboard<2.13,>=2.12->tensorflow) (3.4.4)\n",
            "Requirement already satisfied: requests<3,>=2.21.0 in /usr/local/lib/python3.10/dist-packages (from tensorboard<2.13,>=2.12->tensorflow) (2.31.0)\n",
            "Requirement already satisfied: tensorboard-data-server<0.8.0,>=0.7.0 in /usr/local/lib/python3.10/dist-packages (from tensorboard<2.13,>=2.12->tensorflow) (0.7.1)\n",
            "Requirement already satisfied: werkzeug>=1.0.1 in /usr/local/lib/python3.10/dist-packages (from tensorboard<2.13,>=2.12->tensorflow) (2.3.7)\n",
            "Requirement already satisfied: cachetools<6.0,>=2.0.0 in /usr/local/lib/python3.10/dist-packages (from google-auth<3,>=1.6.3->tensorboard<2.13,>=2.12->tensorflow) (5.3.1)\n",
            "Requirement already satisfied: pyasn1-modules>=0.2.1 in /usr/local/lib/python3.10/dist-packages (from google-auth<3,>=1.6.3->tensorboard<2.13,>=2.12->tensorflow) (0.3.0)\n",
            "Requirement already satisfied: rsa<5,>=3.1.4 in /usr/local/lib/python3.10/dist-packages (from google-auth<3,>=1.6.3->tensorboard<2.13,>=2.12->tensorflow) (4.9)\n",
            "Requirement already satisfied: requests-oauthlib>=0.7.0 in /usr/local/lib/python3.10/dist-packages (from google-auth-oauthlib<1.1,>=0.5->tensorboard<2.13,>=2.12->tensorflow) (1.3.1)\n",
            "Requirement already satisfied: charset-normalizer<4,>=2 in /usr/local/lib/python3.10/dist-packages (from requests<3,>=2.21.0->tensorboard<2.13,>=2.12->tensorflow) (3.2.0)\n",
            "Requirement already satisfied: idna<4,>=2.5 in /usr/local/lib/python3.10/dist-packages (from requests<3,>=2.21.0->tensorboard<2.13,>=2.12->tensorflow) (3.4)\n",
            "Requirement already satisfied: urllib3<3,>=1.21.1 in /usr/local/lib/python3.10/dist-packages (from requests<3,>=2.21.0->tensorboard<2.13,>=2.12->tensorflow) (2.0.4)\n",
            "Requirement already satisfied: certifi>=2017.4.17 in /usr/local/lib/python3.10/dist-packages (from requests<3,>=2.21.0->tensorboard<2.13,>=2.12->tensorflow) (2023.7.22)\n",
            "Requirement already satisfied: MarkupSafe>=2.1.1 in /usr/local/lib/python3.10/dist-packages (from werkzeug>=1.0.1->tensorboard<2.13,>=2.12->tensorflow) (2.1.3)\n",
            "Requirement already satisfied: pyasn1<0.6.0,>=0.4.6 in /usr/local/lib/python3.10/dist-packages (from pyasn1-modules>=0.2.1->google-auth<3,>=1.6.3->tensorboard<2.13,>=2.12->tensorflow) (0.5.0)\n",
            "Requirement already satisfied: oauthlib>=3.0.0 in /usr/local/lib/python3.10/dist-packages (from requests-oauthlib>=0.7.0->google-auth-oauthlib<1.1,>=0.5->tensorboard<2.13,>=2.12->tensorflow) (3.2.2)\n"
          ]
        },
        {
          "name": "stderr",
          "output_type": "stream",
          "text": [
            "WARNING:tensorflow:From /usr/local/lib/python3.10/dist-packages/tensorflow/python/compat/v2_compat.py:107: disable_resource_variables (from tensorflow.python.ops.variable_scope) is deprecated and will be removed in a future version.\n",
            "Instructions for updating:\n",
            "non-resource variables are not supported in the long term\n"
          ]
        },
        {
          "name": "stdout",
          "output_type": "stream",
          "text": [
            "Hello, TensorFlow!\n"
          ]
        }
      ],
      "source": [
        "!pip install tensorflow\n",
        "\n",
        "import tensorflow.compat.v1 as tf\n",
        "tf.disable_v2_behavior()\n",
        "\n",
        "hello = tf.constant('Hello, TensorFlow!')\n",
        "sess = tf.Session()\n",
        "\n",
        "print(sess.run(hello).decode('utf-8'))\n",
        "\n"
      ]
    },
    {
      "cell_type": "code",
      "execution_count": null,
      "metadata": {
        "colab": {
          "background_save": true,
          "base_uri": "https://localhost:8080/"
        },
        "id": "hRep6KKHMuAd",
        "outputId": "2b24ebb8-3280-428a-f9b3-be4f468d892d"
      },
      "outputs": [
        {
          "name": "stdout",
          "output_type": "stream",
          "text": [
            "Requirement already satisfied: numpy in /usr/local/lib/python3.10/dist-packages (1.23.5)\n",
            "Requirement already satisfied: matplotlib in /usr/local/lib/python3.10/dist-packages (3.7.1)\n",
            "Requirement already satisfied: contourpy>=1.0.1 in /usr/local/lib/python3.10/dist-packages (from matplotlib) (1.1.0)\n",
            "Requirement already satisfied: cycler>=0.10 in /usr/local/lib/python3.10/dist-packages (from matplotlib) (0.11.0)\n",
            "Requirement already satisfied: fonttools>=4.22.0 in /usr/local/lib/python3.10/dist-packages (from matplotlib) (4.42.1)\n",
            "Requirement already satisfied: kiwisolver>=1.0.1 in /usr/local/lib/python3.10/dist-packages (from matplotlib) (1.4.5)\n",
            "Requirement already satisfied: numpy>=1.20 in /usr/local/lib/python3.10/dist-packages (from matplotlib) (1.23.5)\n",
            "Requirement already satisfied: packaging>=20.0 in /usr/local/lib/python3.10/dist-packages (from matplotlib) (23.1)\n",
            "Requirement already satisfied: pillow>=6.2.0 in /usr/local/lib/python3.10/dist-packages (from matplotlib) (9.4.0)\n",
            "Requirement already satisfied: pyparsing>=2.3.1 in /usr/local/lib/python3.10/dist-packages (from matplotlib) (3.1.1)\n",
            "Requirement already satisfied: python-dateutil>=2.7 in /usr/local/lib/python3.10/dist-packages (from matplotlib) (2.8.2)\n",
            "Requirement already satisfied: six>=1.5 in /usr/local/lib/python3.10/dist-packages (from python-dateutil>=2.7->matplotlib) (1.16.0)\n",
            "Requirement already satisfied: imageio in /usr/local/lib/python3.10/dist-packages (2.31.3)\n",
            "Requirement already satisfied: numpy in /usr/local/lib/python3.10/dist-packages (from imageio) (1.23.5)\n",
            "Requirement already satisfied: pillow>=8.3.2 in /usr/local/lib/python3.10/dist-packages (from imageio) (9.4.0)\n"
          ]
        }
      ],
      "source": [
        "!pip install numpy\n",
        "!pip install matplotlib\n",
        "!pip install imageio\n",
        "\n",
        "import numpy as np\n",
        "import matplotlib.pyplot as plt\n",
        "import imageio\n",
        "\n",
        "# Simülasyon için parametreler\n",
        "num_frames = 100 # kare sayısı\n",
        "circle_radius = 0.005  # Uçağı noktasal göster\n",
        "x_min, x_max = 0, 1\n",
        "y_min, y_max = 0, 1\n",
        "circle_y = (y_max - y_min) / 2\n",
        "plane_speed = (x_max - x_min - 2 * circle_radius) / (num_frames - 1)\n",
        "wave_increment = plane_speed / 1.1  # Mach hızını değiştirmek için 1.1 değerini değiştir. Şu anda 1.1 Mach.\n",
        "grid_size = 300\n",
        "\n",
        "x = np.linspace(x_min, x_max, grid_size)\n",
        "y = np.linspace(y_min, y_max, grid_size)\n",
        "X, Y = np.meshgrid(x, y)\n",
        "\n",
        "# Bu kısım dalgaları takip ediyor\n",
        "waves = []\n",
        "\n",
        "def gaussian2D(x, y, x0, y0, sx, sy, amplitude):\n",
        "    return amplitude * np.exp(-((x - x0)**2 / (2 * sx**2) + (y - y0)**2 / (2 * sy**2)))\n",
        "\n",
        "def update_circle_pos(frame):\n",
        "    ax.clear()\n",
        "    ax.set_xlim(x_min, x_max)\n",
        "    ax.set_ylim(y_min, y_max)\n",
        "    ax.set_aspect('equal', 'box')\n",
        "    ax.axis('off')\n",
        "\n",
        "    circle_x = x_min + frame * plane_speed\n",
        "\n",
        "    # Yeni dalga yay\n",
        "    waves.append([circle_x, circle_y, 0, 1.0])\n",
        "\n",
        "    # Dalgalar için sıcaklık haritası\n",
        "    heatmap = np.zeros_like(X)\n",
        "    new_waves = []\n",
        "    for wave in waves:\n",
        "        wave[2] += wave_increment\n",
        "        wave[3] *= 0.95\n",
        "        heatmap += gaussian2D(X, Y, wave[0], wave[1], wave[2], wave[2], wave[3])\n",
        "        if wave[2] + wave_increment < x_max - wave[0]:\n",
        "            new_waves.append(wave)\n",
        "    waves[:] = new_waves\n",
        "\n",
        "    ax.imshow(heatmap, extent=(x_min, x_max, y_min, y_max), origin='lower', cmap='hot', aspect='auto', alpha=0.6)\n",
        "\n",
        "    # Çiz\n",
        "    plane_circle = plt.Circle((circle_x, circle_y), circle_radius, color='blue')\n",
        "    ax.add_patch(plane_circle)\n",
        "    return ax,\n",
        "\n",
        "fig, ax = plt.subplots(figsize=(6, 6))\n",
        "\n",
        "frames = []\n",
        "for frame in range(num_frames):\n",
        "    update_circle_pos(frame)\n",
        "    fig.canvas.draw()  # Figürü update et\n",
        "    image = np.frombuffer(fig.canvas.tostring_rgb(), dtype='uint8')\n",
        "    image = image.reshape(fig.canvas.get_width_height()[::-1] + (3,))\n",
        "    frames.append(image)\n",
        "\n",
        "plt.close(fig)\n",
        "\n",
        "# GIF olarak kaydet\n",
        "imageio.mimsave('ucak_simulasyon.gif', frames, duration=100)\n"
      ]
    },
    {
      "cell_type": "code",
      "execution_count": null,
      "metadata": {
        "colab": {
          "base_uri": "https://localhost:8080/"
        },
        "id": "EKFAx34MyoCd",
        "outputId": "4ed23d65-54e6-4034-915a-b9a53a3de54b"
      },
      "outputs": [
        {
          "name": "stdout",
          "output_type": "stream",
          "text": [
            "\u001b[31mERROR: Could not find a version that satisfies the requirement json (from versions: none)\u001b[0m\u001b[31m\n",
            "\u001b[0m\u001b[31mERROR: No matching distribution found for json\u001b[0m\u001b[31m\n",
            "\u001b[0mRequirement already satisfied: reportlab in /usr/local/lib/python3.10/dist-packages (4.0.5)\n",
            "Requirement already satisfied: pillow>=9.0.0 in /usr/local/lib/python3.10/dist-packages (from reportlab) (9.4.0)\n",
            "Requirement already satisfied: fpdf in /usr/local/lib/python3.10/dist-packages (1.7.2)\n",
            "Enter Name: kfhjcbsdjh\n",
            "Enter Mobile: kjsbckjsdbc\n",
            "Enter Email: cbdjksbcksdb\n",
            "Enter PostCode: cbksjdbckjsdb\n",
            "Enter PersonalProfile: cbksjdbckjsd\n",
            "Enter Skillset: bcdskjbckjsdb\n",
            "Enter EmploymentHistory: bckjdsbckjsdb\n",
            "Enter EducationAndTraining: dsnclksdnl\n",
            "Enter HobbiesAndInterests: kjcnlkdsnclk\n",
            "Enter References: dsnckjnsd\n"
          ]
        }
      ],
      "source": [
        "!pip install json\n",
        "!pip install reportlab\n",
        "!pip install fpdf\n",
        "\n",
        "import json\n",
        "from reportlab.lib.pagesizes import letter\n",
        "from reportlab.pdfgen import canvas\n",
        "from fpdf import FPDF\n",
        "\n",
        "# Function to load or create a JSON resume file\n",
        "def load_or_create_resume(filename):\n",
        "    try:\n",
        "        with open(filename, 'r') as file:\n",
        "            resume_data = json.load(file)\n",
        "    except FileNotFoundError:\n",
        "        resume_data = {\n",
        "            \"PersonalDetails\": {\n",
        "                \"Name\": \"\",\n",
        "                \"Mobile\": \"\",\n",
        "                \"Email\": \"\",\n",
        "                \"PostCode\": \"\"\n",
        "            },\n",
        "            \"PersonalProfile\": \"\",\n",
        "            \"Skillset\": \"\",\n",
        "            \"EmploymentHistory\": [],\n",
        "            \"EducationAndTraining\": [],\n",
        "            \"HobbiesAndInterests\": \"\",\n",
        "            \"References\": \"Available on request\"\n",
        "        }\n",
        "    return resume_data\n",
        "\n",
        "# Function to generate a PDF resume\n",
        "def generate_pdf_resume(data, pdf_filename):\n",
        "    pdf = FPDF()\n",
        "    pdf.add_page()\n",
        "    pdf.set_font(\"Arial\", size=12)\n",
        "\n",
        "    # Add sections to the PDF\n",
        "    for section, content in data.items():\n",
        "        pdf.add_page()\n",
        "        pdf.cell(200, 10, txt=section, ln=True, align='C')\n",
        "\n",
        "        # Check if the content is a dictionary\n",
        "        if isinstance(content, dict):\n",
        "            for key, value in content.items():\n",
        "                pdf.multi_cell(0, 10, f\"{key}: {value}\", align='L')\n",
        "        else:\n",
        "            pdf.multi_cell(0, 10, txt=content, align='L')\n",
        "\n",
        "    # Save the PDF to the specified filename\n",
        "    pdf.output(pdf_filename)\n",
        "d\n",
        "\n",
        "# Main function to run the resume creator\n",
        "def main():\n",
        "    json_filename = 'resume_data.json'\n",
        "    pdf_filename = 'resume.pdf'\n",
        "\n",
        "    resume_data = load_or_create_resume(json_filename)\n",
        "\n",
        "    # Collect user input for each section\n",
        "    for section, content in resume_data.items():\n",
        "        if isinstance(content, dict):\n",
        "            for field in content:\n",
        "                resume_data[section][field] = input(f\"Enter {field}: \")\n",
        "        else:\n",
        "            resume_data[section] = input(f\"Enter {section}: \")\n",
        "\n",
        "    # Save the updated data to JSON\n",
        "    save_resume_data(resume_data, json_filename)\n",
        "\n",
        "    # Generate the PDF resume\n",
        "    generate_pdf_resume(resume_data, pdf_filename)\n",
        "\n",
        "if __name__ == \"__main__\":\n",
        "    main()"
      ]
    },
    {
      "cell_type": "code",
      "execution_count": null,
      "metadata": {
        "id": "Hq-Sa_NmGksV"
      },
      "outputs": [],
      "source": [
        "!pip install PyGithub\n",
        "!pip install schedule\n",
        "\n",
        "\n",
        "import os\n",
        "import random\n",
        "import string\n",
        "import schedule\n",
        "import time\n",
        "from github import Github\n",
        "\n",
        "# GitHub credentials and repository information\n",
        "GITHUB_TOKEN = 'your_github_token_here'\n",
        "REPO_OWNER = 'your_username_or_organization'\n",
        "REPO_NAME = 'your_repository_name'\n",
        "FILE_PATH = 'random_text.txt'\n",
        "\n",
        "# Function to generate random content\n",
        "def generate_random_content():\n",
        "    content = ''.join(random.choices(string.ascii_letters + string.digits, k=100))\n",
        "    return content\n",
        "\n",
        "# Function to push random content to GitHub\n",
        "def push_to_github():\n",
        "    content = generate_random_content()\n",
        "\n",
        "    # Authenticate to GitHub using the token\n",
        "    github = Github(GITHUB_TOKEN)\n",
        "    repo = github.get_user(REPO_OWNER).get_repo(REPO_NAME)\n",
        "\n",
        "    # Create a new commit with the random content\n",
        "    repo.create_file(FILE_PATH, \"Update random content\", content, branch=\"main\")\n",
        "\n",
        "    print(f\"Uploaded random content to GitHub at {time.strftime('%Y-%m-%d %H:%M:%S')}\")\n",
        "\n",
        "# Schedule the bot to run three times a day\n",
        "schedule.every(8).hours.do(push_to_github)\n",
        "\n",
        "# Run the scheduler\n",
        "while True:\n",
        "    schedule.run_pending()\n",
        "    time.sleep(1)\n"
      ]
    },
    {
      "cell_type": "code",
      "execution_count": null,
      "metadata": {
        "colab": {
          "background_save": true,
          "base_uri": "https://localhost:8080/"
        },
        "id": "Ar7-HJxB4zXK",
        "outputId": "f4816d0b-84e1-4eaa-ecf7-9dc2fa9c584b"
      },
      "outputs": [
        {
          "name": "stdout",
          "output_type": "stream",
          "text": [
            "\u001b[31mERROR: Could not find a version that satisfies the requirement hashlib (from versions: 20081119)\u001b[0m\u001b[31m\n",
            "\u001b[0m\u001b[31mERROR: No matching distribution found for hashlib\u001b[0m\u001b[31m\n",
            "\u001b[0mHashed text: c776f72971a5611a0e36732b86d111d87498eb5e26cd0e71eec04107151d177d\n"
          ]
        }
      ],
      "source": [
        "! pip install hashlib\n",
        "import hashlib\n",
        "\n",
        "def hash_text(text):\n",
        "    # Create a new SHA-256 hash object\n",
        "    sha256 = hashlib.sha256()\n",
        "\n",
        "    # Update the hash object with the input text\n",
        "    sha256.update(text.encode('utf-8'))\n",
        "\n",
        "    # Get the hexadecimal representation of the hash\n",
        "    hashed_text = sha256.hexdigest()\n",
        "\n",
        "    return hashed_text\n",
        "\n",
        "if __name__ == \"__main__\":\n",
        "    while True:\n",
        "        # Take user input\n",
        "        user_input = input(\"Enter text to hash (or type 'exit' to quit): \")\n",
        "\n",
        "        # Check if the user wants to exit\n",
        "        if user_input.lower() == \"exit\":\n",
        "            break\n",
        "\n",
        "        # Calculate and print the hash\n",
        "        hashed_text = hash_text(user_input)\n",
        "        print(\"Hashed text:\", hashed_text)\n"
      ]
    },
    {
      "cell_type": "code",
      "source": [
        "name = input(\"Enter your name:\")\n",
        "age = 18\n",
        "\n",
        "print(name,' is',age, ' years old')"
      ],
      "metadata": {
        "colab": {
          "base_uri": "https://localhost:8080/"
        },
        "id": "84iqTphcq5eS",
        "outputId": "a33312af-d408-45ef-95f8-f6b973ac1b33"
      },
      "execution_count": null,
      "outputs": [
        {
          "output_type": "stream",
          "name": "stdout",
          "text": [
            "Enter your name:yusuf\n",
            "yusuf  is 18  years old\n"
          ]
        }
      ]
    },
    {
      "cell_type": "code",
      "source": [
        "a = 13\n",
        "b = 2.5\n",
        "z = int(a)+float(b)\n",
        "print(z)"
      ],
      "metadata": {
        "colab": {
          "base_uri": "https://localhost:8080/"
        },
        "id": "ckYE-ImfwCIy",
        "outputId": "4be2a70c-9c62-40c5-a12b-d88ca08bac17"
      },
      "execution_count": null,
      "outputs": [
        {
          "output_type": "stream",
          "name": "stdout",
          "text": [
            "15.5\n"
          ]
        }
      ]
    },
    {
      "cell_type": "code",
      "source": [
        "a = 7\n",
        "b = 2\n",
        "\n",
        "a += 2\n",
        "print (a)"
      ],
      "metadata": {
        "colab": {
          "base_uri": "https://localhost:8080/"
        },
        "id": "LqIXHZb9xBaB",
        "outputId": "db59dc7c-193a-4ede-994a-eafae8da495b"
      },
      "execution_count": null,
      "outputs": [
        {
          "output_type": "stream",
          "name": "stdout",
          "text": [
            "9\n"
          ]
        }
      ]
    },
    {
      "cell_type": "code",
      "source": [
        "a = 5\n",
        "b = 2\n",
        "# equal to operator\n",
        "print('a==b', a==b)"
      ],
      "metadata": {
        "colab": {
          "base_uri": "https://localhost:8080/"
        },
        "id": "xM2Qyt9OxUbJ",
        "outputId": "3abea1bb-03eb-4da4-b545-120343922d34"
      },
      "execution_count": null,
      "outputs": [
        {
          "output_type": "stream",
          "name": "stdout",
          "text": [
            "a==b False\n"
          ]
        }
      ]
    },
    {
      "cell_type": "code",
      "source": [
        "print(8//3*3/2+10%2**2)\n",
        "print(8//3*3/2+10%4) # Exponentiation applied (2 above)\n",
        "print(2*3/2+10%4) # (3 above)\n",
        "print(2*3/2+10%4) # (3 above)\n",
        "print(6/2+10%4) # (3 above)\n",
        "print(3+10%4) # (3 above)\n",
        "print(3+2) # (4 above)"
      ],
      "metadata": {
        "colab": {
          "base_uri": "https://localhost:8080/"
        },
        "id": "INRTOUAC5FxJ",
        "outputId": "9ea78155-455e-42e9-ad07-86c5f90738ff"
      },
      "execution_count": null,
      "outputs": [
        {
          "output_type": "stream",
          "name": "stdout",
          "text": [
            "5.0\n",
            "5.0\n",
            "5.0\n",
            "5.0\n",
            "5.0\n",
            "5\n",
            "5\n"
          ]
        }
      ]
    },
    {
      "cell_type": "code",
      "source": [
        "a=8.0\n",
        "b=3.0\n",
        "c=4.0\n",
        "d=2.0\n",
        "e=1.0\n",
        "f=a-b+c/d*e\n",
        "print(float(f))\n",
        "f=(a-b)+((c/b)*e)\n",
        "print(f)\n",
        "f= (a-(b+c))/(d*e)\n",
        "print(f)"
      ],
      "metadata": {
        "colab": {
          "base_uri": "https://localhost:8080/"
        },
        "id": "gbB6m8zi5_Hh",
        "outputId": "51bc0b51-4af0-4b09-a3fb-ad44b2577f3c"
      },
      "execution_count": null,
      "outputs": [
        {
          "output_type": "stream",
          "name": "stdout",
          "text": [
            "7.0\n",
            "6.333333333333333\n",
            "0.5\n"
          ]
        }
      ]
    },
    {
      "cell_type": "code",
      "source": [
        "# Function to calculate the area of a rectangle\n",
        "def calculate_area(length, width):\n",
        "    area = length * width\n",
        "    return area\n",
        "\n",
        "# Function to calculate the perimeter of a rectangle\n",
        "def calculate_perimeter(length, width):\n",
        "    perimeter = 2 * (length + width)\n",
        "    return perimeter\n",
        "\n",
        "# Input the length and width of the rectangle\n",
        "length = float(input(\"Enter the length of the rectangle: \"))\n",
        "width = float(input(\"Enter the width of the rectangle: \"))\n",
        "\n",
        "# Calculate the area and perimeter\n",
        "area = calculate_area(length, width)\n",
        "perimeter = calculate_perimeter(length, width)\n",
        "\n",
        "# Display the results\n",
        "print(f\"Area of the rectangle: {area}\")\n",
        "print(f\"Perimeter of the rectangle: {perimeter}\")\n"
      ],
      "metadata": {
        "colab": {
          "base_uri": "https://localhost:8080/"
        },
        "id": "Gq12SInj6p7J",
        "outputId": "7079dc3e-4e00-40a9-dbf0-45b06883f407"
      },
      "execution_count": null,
      "outputs": [
        {
          "output_type": "stream",
          "name": "stdout",
          "text": [
            "Enter the length of the rectangle: 15\n",
            "Enter the width of the rectangle: 20\n",
            "Area of the rectangle: 300.0\n",
            "Perimeter of the rectangle: 70.0\n"
          ]
        }
      ]
    },
    {
      "cell_type": "code",
      "source": [
        "# Input for the dimensions of the first rectangle\n",
        "length1 = float(input(\"Enter the length of the first rectangle: \"))\n",
        "width1 = float(input(\"Enter the width of the first rectangle: \"))\n",
        "\n",
        "# Input for the dimensions of the second rectangle\n",
        "length2 = float(input(\"Enter the length of the second rectangle: \"))\n",
        "width2 = float(input(\"Enter the width of the second rectangle: \"))\n",
        "\n",
        "# Calculate the areas of the two rectangles\n",
        "area1 = length1 * width1\n",
        "area2 = length2 * width2\n",
        "\n",
        "# Compare the areas and print the result\n",
        "if area1 > area2:\n",
        "  print(\"The first rectangle has a greater area.\")\n",
        "elif area2 > area1:\n",
        "  print(\"The second rectangle has a greater area.\")\n",
        "else:\n",
        "  print(\"Both rectangles have the same area.\")"
      ],
      "metadata": {
        "colab": {
          "base_uri": "https://localhost:8080/"
        },
        "id": "h8mPPu_YAfz5",
        "outputId": "2843f020-0178-4a8b-90df-7eaf05ff6142"
      },
      "execution_count": null,
      "outputs": [
        {
          "output_type": "stream",
          "name": "stdout",
          "text": [
            "Enter the length of the first rectangle: 15\n",
            "Enter the width of the first rectangle: 25\n",
            "Enter the length of the second rectangle: 15\n",
            "Enter the width of the second rectangle: 25\n",
            "Both rectangles have the same area.\n"
          ]
        }
      ]
    },
    {
      "cell_type": "code",
      "source": [
        "num = int(input(\"Enter number: \"))\n",
        "if num>10:\n",
        "  print(\"Number greater than 10\")\n",
        "else:\n",
        "  print(\"not\")"
      ],
      "metadata": {
        "colab": {
          "base_uri": "https://localhost:8080/"
        },
        "id": "7YzipcFgHUyZ",
        "outputId": "6a9c7660-56c6-40f0-becd-a7975733ec6a"
      },
      "execution_count": null,
      "outputs": [
        {
          "output_type": "stream",
          "name": "stdout",
          "text": [
            "Enter number: 18\n",
            "Number greater than 10\n"
          ]
        }
      ]
    },
    {
      "cell_type": "code",
      "source": [
        "def calculate_letter_grade(score):\n",
        "    if score >= 90:\n",
        "        return 'A'\n",
        "    elif score >= 80:\n",
        "        return 'B'\n",
        "    elif score >= 70:\n",
        "        return 'C'\n",
        "    elif score >= 60:\n",
        "        return 'D'\n",
        "    else:\n",
        "        return 'F'\n",
        "\n",
        "\n",
        "score = float(input(\"Enter your numerical grade: \"))\n",
        "\n",
        "if 60 <= score <= 90:\n",
        "  letter_grade = calculate_letter_grade(score)\n",
        "  print(f\"Your letter grade is: {letter_grade}\")\n",
        "else:\n",
        "  print(\"Invalid input. Please enter a numerical grade between 60 and 90.\")\n"
      ],
      "metadata": {
        "colab": {
          "base_uri": "https://localhost:8080/"
        },
        "id": "GOR-NbFdIJly",
        "outputId": "bc9d2de5-b3c8-4994-92a3-e5a87aa97507"
      },
      "execution_count": null,
      "outputs": [
        {
          "output_type": "stream",
          "name": "stdout",
          "text": [
            "Enter your numerical grade: 15\n",
            "Invalid input. Please enter a numerical grade between 60 and 90.\n"
          ]
        }
      ]
    },
    {
      "cell_type": "code",
      "source": [
        "i = 0\n",
        "while i < 5:\n",
        "  print(i)\n",
        "  i+=1"
      ],
      "metadata": {
        "colab": {
          "base_uri": "https://localhost:8080/"
        },
        "id": "7duaEeAUJ5U5",
        "outputId": "f919e1e5-3473-45bd-caf1-460b39c9dbcf"
      },
      "execution_count": null,
      "outputs": [
        {
          "output_type": "stream",
          "name": "stdout",
          "text": [
            "0\n",
            "1\n",
            "2\n",
            "3\n",
            "4\n"
          ]
        }
      ]
    },
    {
      "cell_type": "code",
      "source": [
        "num=int(input(\"Please enter a number: \"))\n",
        "f=1\n",
        "x=2\n",
        "while x<=num:\n",
        "  f*=x\n",
        "  x+=1\n",
        "print(num!=f)"
      ],
      "metadata": {
        "colab": {
          "base_uri": "https://localhost:8080/"
        },
        "id": "QGhDESU1KafR",
        "outputId": "3f812069-5df9-4a45-d554-252409db9a19"
      },
      "execution_count": null,
      "outputs": [
        {
          "output_type": "stream",
          "name": "stdout",
          "text": [
            "Please enter a number: 2\n",
            "False\n"
          ]
        }
      ]
    },
    {
      "cell_type": "code",
      "source": [
        "i=1\n",
        "while i < 6:\n",
        "  print(i)\n",
        "  i+=1\n",
        "  if i ==3:\n",
        "    break\n",
        "print(i)\n"
      ],
      "metadata": {
        "colab": {
          "base_uri": "https://localhost:8080/"
        },
        "id": "dYzXXfxwLeZh",
        "outputId": "ab78c2ed-da61-4512-eb50-d24b72f32c99"
      },
      "execution_count": null,
      "outputs": [
        {
          "output_type": "stream",
          "name": "stdout",
          "text": [
            "1\n",
            "2\n",
            "3\n"
          ]
        }
      ]
    },
    {
      "cell_type": "code",
      "source": [
        "i=1\n",
        "while i < 6:\n",
        "  i+=1\n",
        "  if i 3:\n",
        "    continue\n",
        "print(i)"
      ],
      "metadata": {
        "colab": {
          "base_uri": "https://localhost:8080/"
        },
        "id": "jFpMAoksL9QQ",
        "outputId": "8caee6d2-e57e-486a-e45f-06923137bc23"
      },
      "execution_count": null,
      "outputs": [
        {
          "output_type": "stream",
          "name": "stdout",
          "text": [
            "6\n"
          ]
        }
      ]
    },
    {
      "cell_type": "code",
      "source": [
        "sum = 0\n",
        "while(1):\n",
        "  num= float(input(\"Enter a number (0 to terminal): \"))\n",
        "  if num == 0:\n",
        "    break\n"
      ],
      "metadata": {
        "id": "u1mZlJwZMLgY"
      },
      "execution_count": null,
      "outputs": []
    },
    {
      "cell_type": "code",
      "source": [
        "i=1\n",
        "while i<6:\n",
        "  print(i)\n",
        "  i += 1"
      ],
      "metadata": {
        "colab": {
          "base_uri": "https://localhost:8080/"
        },
        "id": "BRSME4Z-NULh",
        "outputId": "0af52cc6-c33c-4686-c1f7-0f88f7e4144d"
      },
      "execution_count": null,
      "outputs": [
        {
          "output_type": "stream",
          "name": "stdout",
          "text": [
            "1\n",
            "2\n",
            "3\n",
            "4\n",
            "5\n"
          ]
        }
      ]
    },
    {
      "cell_type": "code",
      "source": [
        "while True:\n",
        "    age = int(input(\"Enter a person's age (or -1 to exit): \"))\n",
        "\n",
        "    if age == -1-:\n",
        "        print(\"Exiting the program.\")\n",
        "        break\n",
        "\n",
        "    if age <= 1:\n",
        "        print(\"The person is an infant.\")\n",
        "    elif age < 13:\n",
        "        print(\"The person is a child.\")\n",
        "    elif age < 20:\n",
        "        print(\"The person is a teenager.\")\n",
        "    else:\n",
        "        print(\"The person is an adult.\")\n"
      ],
      "metadata": {
        "colab": {
          "base_uri": "https://localhost:8080/"
        },
        "id": "iOswhKjTNgJZ",
        "outputId": "3976dab0-c1db-4d0d-8527-16782fc52741"
      },
      "execution_count": null,
      "outputs": [
        {
          "output_type": "stream",
          "name": "stdout",
          "text": [
            "Enter a person's age (or -1 to exit): 7452\n",
            "The person is an adult.\n",
            "Enter a person's age (or -1 to exit): 452\n",
            "The person is an adult.\n",
            "Enter a person's age (or -1 to exit): 523\n",
            "The person is an adult.\n",
            "Enter a person's age (or -1 to exit): 1\n",
            "The person is an infant.\n",
            "Enter a person's age (or -1 to exit): -1\n",
            "Exiting the program.\n"
          ]
        }
      ]
    },
    {
      "cell_type": "code",
      "source": [
        "while True:\n",
        "    total_sales = float(input(\"Enter the projected amount of total sales (or -1 to exit): \"))\n",
        "\n",
        "    if total_sales == -1:\n",
        "        print(\"Exiting the program.\")\n",
        "        break\n",
        "\n",
        "    profit = 0.23 * total_sales\n",
        "    print(\"The profit from projected sales is:\", profit)\n"
      ],
      "metadata": {
        "colab": {
          "base_uri": "https://localhost:8080/"
        },
        "id": "x42s1NqjNpOZ",
        "outputId": "13830875-9f0d-416c-cd06-5eb4f72ea4c2"
      },
      "execution_count": null,
      "outputs": [
        {
          "output_type": "stream",
          "name": "stdout",
          "text": [
            "Enter the projected amount of total sales (or -1 to exit): 100\n",
            "The profit from projected sales is: 23.0\n",
            "Enter the projected amount of total sales (or -1 to exit): 65\n",
            "The profit from projected sales is: 14.950000000000001\n",
            "Enter the projected amount of total sales (or -1 to exit): 65\n",
            "The profit from projected sales is: 14.950000000000001\n",
            "Enter the projected amount of total sales (or -1 to exit): 1976\n",
            "The profit from projected sales is: 454.48\n",
            "Enter the projected amount of total sales (or -1 to exit): -1\n",
            "Exiting the program.\n"
          ]
        }
      ]
    },
    {
      "cell_type": "code",
      "source": [
        "while True:\n",
        "    # Get the number of hours worked\n",
        "    hours_worked = float(input(\"Enter the number of hours worked (or -1 to exit): \"))\n",
        "\n",
        "    if hours_worked == -1:\n",
        "        print(\"Exiting the program.\")\n",
        "        break\n",
        "\n",
        "    # Get the hourly pay rate\n",
        "    hourly_pay_rate = float(input(\"Enter the hourly pay rate: \"))\n",
        "\n",
        "    if hours_worked > 40:\n",
        "        # Calculate regular pay for the first 40 hours\n",
        "        regular_pay = 40 * hourly_pay_rate\n",
        "\n",
        "        # Calculate overtime pay for hours over 40\n",
        "        overtime_hours = hours_worked - 40\n",
        "        overtime_pay = overtime_hours * (1.5 * hourly_pay_rate)\n",
        "\n",
        "        # Calculate and display the gross pay with overtime\n",
        "        gross_pay = regular_pay + overtime_pay\n",
        "        print(\"Gross pay with overtime: $\", gross_pay)\n",
        "    else:\n",
        "        # Calculate and display the gross pay as usual\n",
        "        gross_pay = hours_worked * hourly_pay_rate\n",
        "        print(\"Gross pay: $\", gross_pay)\n",
        "\n",
        "    continue\n"
      ],
      "metadata": {
        "colab": {
          "base_uri": "https://localhost:8080/"
        },
        "id": "avzEZQn4RkTx",
        "outputId": "777453d2-0ca1-4434-97b1-aa51c6a7f260"
      },
      "execution_count": null,
      "outputs": [
        {
          "output_type": "stream",
          "name": "stdout",
          "text": [
            "Enter the number of hours worked (or -1 to exit): 5\n",
            "Enter the hourly pay rate: 15\n",
            "Gross pay: $ 75.0\n",
            "Enter the number of hours worked (or -1 to exit): -1\n",
            "Exiting the program.\n"
          ]
        }
      ]
    },
    {
      "cell_type": "code",
      "source": [
        "# Define the number of rows for the pattern\n",
        "num_rows = 5\n",
        "\n",
        "# Outer loop for each row\n",
        "for i in range(num_rows):\n",
        "    # Inner loop for printing asterisks in each row\n",
        "    for j in range(i + 1):\n",
        "        print(\"*\", end=\" \")  # Print an asterisk followed by a space\n",
        "    print()  # Move to the next line after each row of asterisks\n"
      ],
      "metadata": {
        "colab": {
          "base_uri": "https://localhost:8080/"
        },
        "id": "uPVh9e2hSSYR",
        "outputId": "6d9d5f29-0290-44dd-92b5-b573c99a2bda"
      },
      "execution_count": null,
      "outputs": [
        {
          "output_type": "stream",
          "name": "stdout",
          "text": [
            " *\n",
            " * *\n",
            " * * *\n",
            " * * * *\n",
            " * * * * *\n"
          ]
        }
      ]
    },
    {
      "cell_type": "code",
      "source": [
        "def sum_of_numbers():\n",
        "    total = 0\n",
        "    while True:\n",
        "        number = int(input(\"Enter a positive number (or a negative number to stop): \"))\n",
        "        if number < 0:\n",
        "            break\n",
        "        total += number\n",
        "    print(\"The sum of the numbers is:\", total)\n",
        "\n",
        "sum_of_numbers()"
      ],
      "metadata": {
        "colab": {
          "base_uri": "https://localhost:8080/"
        },
        "id": "UzHmDvxwuLkA",
        "outputId": "b7173753-9213-4fd2-b6a0-a46df01fcc70"
      },
      "execution_count": null,
      "outputs": [
        {
          "output_type": "stream",
          "name": "stdout",
          "text": [
            "Enter a positive number (or a negative number to stop): 15\n",
            "Enter a positive number (or a negative number to stop): 25\n",
            "Enter a positive number (or a negative number to stop): 36\n",
            "Enter a positive number (or a negative number to stop): -1\n",
            "The sum of the numbers is: 76\n"
          ]
        }
      ]
    },
    {
      "cell_type": "code",
      "source": [
        "def sum_of_number():\n",
        "  total = 0\n",
        "  while True:\n",
        "    number = int(input(\"Enter a position number \"))"
      ],
      "metadata": {
        "id": "sV7fHJhT0G35"
      },
      "execution_count": null,
      "outputs": []
    },
    {
      "cell_type": "code",
      "source": [
        "def sum_of_numbers(): total = 0; while True: number = int(input(\"Enter a positive number (or a negative number to stop): \")); if number < 0: break; total += number; print(\"The sum of the numbers is:\", total)"
      ],
      "metadata": {
        "colab": {
          "base_uri": "https://localhost:8080/",
          "height": 141
        },
        "id": "ejnYXC7Z0SKX",
        "outputId": "460e9719-4350-44ed-99ec-e9a8cd2cb870"
      },
      "execution_count": null,
      "outputs": [
        {
          "output_type": "error",
          "ename": "SyntaxError",
          "evalue": "ignored",
          "traceback": [
            "\u001b[0;36m  File \u001b[0;32m\"<ipython-input-2-cbd569aa654a>\"\u001b[0;36m, line \u001b[0;32m1\u001b[0m\n\u001b[0;31m    def sum_of_numbers(): total = 0; while True: number = int(input(\"Enter a positive number (or a negative number to stop): \")); if number < 0: break; total += number; print(\"The sum of the numbers is:\", total)\u001b[0m\n\u001b[0m                                     ^\u001b[0m\n\u001b[0;31mSyntaxError\u001b[0m\u001b[0;31m:\u001b[0m invalid syntax\n"
          ]
        }
      ]
    },
    {
      "cell_type": "code",
      "source": [
        "def and convert_ maximum temperaturescel,si orus displaying the_ datato in_ afahrenheit different format(celsi, such as a bar chartus):\n",
        "    return ( or a scatter plot.9.0 / 5.0) * celsius + 32\n",
        "\n",
        "# Display the table\n",
        "for celsius in range(0, 21):\n",
        "    fahrenheit = convert_celsius_to_fahrenheit(celsius)\n",
        "    print(f\"{celsius}°C = {fahrenheit:.2f}°F\")"
      ],
      "metadata": {
        "colab": {
          "base_uri": "https://localhost:8080/",
          "height": 141
        },
        "id": "hFeGOY5422sY",
        "outputId": "9dec0e4f-2db6-480f-eb02-75845c7af602"
      },
      "execution_count": null,
      "outputs": [
        {
          "output_type": "error",
          "ename": "SyntaxError",
          "evalue": "ignored",
          "traceback": [
            "\u001b[0;36m  File \u001b[0;32m\"<ipython-input-5-b1fa6d9dc8dd>\"\u001b[0;36m, line \u001b[0;32m2\u001b[0m\n\u001b[0;31m    def and convert_ maximum temperaturescel,si orus displaying the_ datato in_ afahrenheit different format(celsi, such as a bar chartus):\u001b[0m\n\u001b[0m        ^\u001b[0m\n\u001b[0;31mSyntaxError\u001b[0m\u001b[0;31m:\u001b[0m invalid syntax\n"
          ]
        }
      ]
    },
    {
      "cell_type": "code",
      "source": [
        "print(\"Celsius  Fahrenheit\")\n",
        "print(\"--------------------\")\n",
        "\n",
        "for celsius in range(21):\n",
        "    fahrenheit = (9/5) * celsius + 32\n",
        "    print(f\"{celsius:7}  {fahrenheit:10.2f}\")\n"
      ],
      "metadata": {
        "colab": {
          "base_uri": "https://localhost:8080/"
        },
        "id": "nc48exY93Dhw",
        "outputId": "1a6eaac9-a7ce-44fa-b5e9-6a5836af759f"
      },
      "execution_count": null,
      "outputs": [
        {
          "output_type": "stream",
          "name": "stdout",
          "text": [
            "Celsius  Fahrenheit\n",
            "--------------------\n",
            "      0       32.00\n",
            "      1       33.80\n",
            "      2       35.60\n",
            "      3       37.40\n",
            "      4       39.20\n",
            "      5       41.00\n",
            "      6       42.80\n",
            "      7       44.60\n",
            "      8       46.40\n",
            "      9       48.20\n",
            "     10       50.00\n",
            "     11       51.80\n",
            "     12       53.60\n",
            "     13       55.40\n",
            "     14       57.20\n",
            "     15       59.00\n",
            "     16       60.80\n",
            "     17       62.60\n",
            "     18       64.40\n",
            "     19       66.20\n",
            "     20       68.00\n"
          ]
        }
      ]
    },
    {
      "cell_type": "code",
      "source": [
        "import plotly.graph_objects as go\n",
        "\n",
        "print(\"Celsius  Fahrenheit\")\n",
        "print(\"--------------------\")\n",
        "\n",
        "celsiusdic = {}  # Use a dictionary instead of a list to store the data\n",
        "\n",
        "for celsius in range(21):\n",
        "    fahrenheit = (9/5) * celsius + 32\n",
        "    print(f\"{celsius:7}  {fahrenheit:10.2f}\")\n",
        "    celsiusdic[f\"{celsius:7}\"] = f\"{fahrenheit:10.2f}\"\n",
        "\n",
        "# Convert the dictionary to lists for use in Plotly\n",
        "celsius_values = list(celsiusdic.keys())\n",
        "fahrenheit_values = list(celsiusdic.values())\n",
        "\n",
        "fig = go.Figure(data=[go.Table(header=dict(values=['Celsius', 'Fahrenheit']),\n",
        "                 cells=dict(values=[celsius_values, fahrenheit_values]))\n",
        "                     ])\n",
        "fig.show()\n"
      ],
      "metadata": {
        "colab": {
          "base_uri": "https://localhost:8080/",
          "height": 941
        },
        "id": "voY1oM7q4Jlo",
        "outputId": "a3f936b0-038e-4086-f103-12ac9a5b6e56"
      },
      "execution_count": null,
      "outputs": [
        {
          "output_type": "stream",
          "name": "stdout",
          "text": [
            "Celsius  Fahrenheit\n",
            "--------------------\n",
            "      0       32.00\n",
            "      1       33.80\n",
            "      2       35.60\n",
            "      3       37.40\n",
            "      4       39.20\n",
            "      5       41.00\n",
            "      6       42.80\n",
            "      7       44.60\n",
            "      8       46.40\n",
            "      9       48.20\n",
            "     10       50.00\n",
            "     11       51.80\n",
            "     12       53.60\n",
            "     13       55.40\n",
            "     14       57.20\n",
            "     15       59.00\n",
            "     16       60.80\n",
            "     17       62.60\n",
            "     18       64.40\n",
            "     19       66.20\n",
            "     20       68.00\n"
          ]
        },
        {
          "output_type": "display_data",
          "data": {
            "text/html": [
              "<html>\n",
              "<head><meta charset=\"utf-8\" /></head>\n",
              "<body>\n",
              "    <div>            <script src=\"https://cdnjs.cloudflare.com/ajax/libs/mathjax/2.7.5/MathJax.js?config=TeX-AMS-MML_SVG\"></script><script type=\"text/javascript\">if (window.MathJax && window.MathJax.Hub && window.MathJax.Hub.Config) {window.MathJax.Hub.Config({SVG: {font: \"STIX-Web\"}});}</script>                <script type=\"text/javascript\">window.PlotlyConfig = {MathJaxConfig: 'local'};</script>\n",
              "        <script charset=\"utf-8\" src=\"https://cdn.plot.ly/plotly-2.24.1.min.js\"></script>                <div id=\"499f17bd-a953-4e0c-a85f-c9fc74a5c9e1\" class=\"plotly-graph-div\" style=\"height:525px; width:100%;\"></div>            <script type=\"text/javascript\">                                    window.PLOTLYENV=window.PLOTLYENV || {};                                    if (document.getElementById(\"499f17bd-a953-4e0c-a85f-c9fc74a5c9e1\")) {                    Plotly.newPlot(                        \"499f17bd-a953-4e0c-a85f-c9fc74a5c9e1\",                        [{\"cells\":{\"values\":[[\"      0\",\"      1\",\"      2\",\"      3\",\"      4\",\"      5\",\"      6\",\"      7\",\"      8\",\"      9\",\"     10\",\"     11\",\"     12\",\"     13\",\"     14\",\"     15\",\"     16\",\"     17\",\"     18\",\"     19\",\"     20\"],[\"     32.00\",\"     33.80\",\"     35.60\",\"     37.40\",\"     39.20\",\"     41.00\",\"     42.80\",\"     44.60\",\"     46.40\",\"     48.20\",\"     50.00\",\"     51.80\",\"     53.60\",\"     55.40\",\"     57.20\",\"     59.00\",\"     60.80\",\"     62.60\",\"     64.40\",\"     66.20\",\"     68.00\"]]},\"header\":{\"values\":[\"Celsius\",\"Fahrenheit\"]},\"type\":\"table\"}],                        {\"template\":{\"data\":{\"histogram2dcontour\":[{\"type\":\"histogram2dcontour\",\"colorbar\":{\"outlinewidth\":0,\"ticks\":\"\"},\"colorscale\":[[0.0,\"#0d0887\"],[0.1111111111111111,\"#46039f\"],[0.2222222222222222,\"#7201a8\"],[0.3333333333333333,\"#9c179e\"],[0.4444444444444444,\"#bd3786\"],[0.5555555555555556,\"#d8576b\"],[0.6666666666666666,\"#ed7953\"],[0.7777777777777778,\"#fb9f3a\"],[0.8888888888888888,\"#fdca26\"],[1.0,\"#f0f921\"]]}],\"choropleth\":[{\"type\":\"choropleth\",\"colorbar\":{\"outlinewidth\":0,\"ticks\":\"\"}}],\"histogram2d\":[{\"type\":\"histogram2d\",\"colorbar\":{\"outlinewidth\":0,\"ticks\":\"\"},\"colorscale\":[[0.0,\"#0d0887\"],[0.1111111111111111,\"#46039f\"],[0.2222222222222222,\"#7201a8\"],[0.3333333333333333,\"#9c179e\"],[0.4444444444444444,\"#bd3786\"],[0.5555555555555556,\"#d8576b\"],[0.6666666666666666,\"#ed7953\"],[0.7777777777777778,\"#fb9f3a\"],[0.8888888888888888,\"#fdca26\"],[1.0,\"#f0f921\"]]}],\"heatmap\":[{\"type\":\"heatmap\",\"colorbar\":{\"outlinewidth\":0,\"ticks\":\"\"},\"colorscale\":[[0.0,\"#0d0887\"],[0.1111111111111111,\"#46039f\"],[0.2222222222222222,\"#7201a8\"],[0.3333333333333333,\"#9c179e\"],[0.4444444444444444,\"#bd3786\"],[0.5555555555555556,\"#d8576b\"],[0.6666666666666666,\"#ed7953\"],[0.7777777777777778,\"#fb9f3a\"],[0.8888888888888888,\"#fdca26\"],[1.0,\"#f0f921\"]]}],\"heatmapgl\":[{\"type\":\"heatmapgl\",\"colorbar\":{\"outlinewidth\":0,\"ticks\":\"\"},\"colorscale\":[[0.0,\"#0d0887\"],[0.1111111111111111,\"#46039f\"],[0.2222222222222222,\"#7201a8\"],[0.3333333333333333,\"#9c179e\"],[0.4444444444444444,\"#bd3786\"],[0.5555555555555556,\"#d8576b\"],[0.6666666666666666,\"#ed7953\"],[0.7777777777777778,\"#fb9f3a\"],[0.8888888888888888,\"#fdca26\"],[1.0,\"#f0f921\"]]}],\"contourcarpet\":[{\"type\":\"contourcarpet\",\"colorbar\":{\"outlinewidth\":0,\"ticks\":\"\"}}],\"contour\":[{\"type\":\"contour\",\"colorbar\":{\"outlinewidth\":0,\"ticks\":\"\"},\"colorscale\":[[0.0,\"#0d0887\"],[0.1111111111111111,\"#46039f\"],[0.2222222222222222,\"#7201a8\"],[0.3333333333333333,\"#9c179e\"],[0.4444444444444444,\"#bd3786\"],[0.5555555555555556,\"#d8576b\"],[0.6666666666666666,\"#ed7953\"],[0.7777777777777778,\"#fb9f3a\"],[0.8888888888888888,\"#fdca26\"],[1.0,\"#f0f921\"]]}],\"surface\":[{\"type\":\"surface\",\"colorbar\":{\"outlinewidth\":0,\"ticks\":\"\"},\"colorscale\":[[0.0,\"#0d0887\"],[0.1111111111111111,\"#46039f\"],[0.2222222222222222,\"#7201a8\"],[0.3333333333333333,\"#9c179e\"],[0.4444444444444444,\"#bd3786\"],[0.5555555555555556,\"#d8576b\"],[0.6666666666666666,\"#ed7953\"],[0.7777777777777778,\"#fb9f3a\"],[0.8888888888888888,\"#fdca26\"],[1.0,\"#f0f921\"]]}],\"mesh3d\":[{\"type\":\"mesh3d\",\"colorbar\":{\"outlinewidth\":0,\"ticks\":\"\"}}],\"scatter\":[{\"fillpattern\":{\"fillmode\":\"overlay\",\"size\":10,\"solidity\":0.2},\"type\":\"scatter\"}],\"parcoords\":[{\"type\":\"parcoords\",\"line\":{\"colorbar\":{\"outlinewidth\":0,\"ticks\":\"\"}}}],\"scatterpolargl\":[{\"type\":\"scatterpolargl\",\"marker\":{\"colorbar\":{\"outlinewidth\":0,\"ticks\":\"\"}}}],\"bar\":[{\"error_x\":{\"color\":\"#2a3f5f\"},\"error_y\":{\"color\":\"#2a3f5f\"},\"marker\":{\"line\":{\"color\":\"#E5ECF6\",\"width\":0.5},\"pattern\":{\"fillmode\":\"overlay\",\"size\":10,\"solidity\":0.2}},\"type\":\"bar\"}],\"scattergeo\":[{\"type\":\"scattergeo\",\"marker\":{\"colorbar\":{\"outlinewidth\":0,\"ticks\":\"\"}}}],\"scatterpolar\":[{\"type\":\"scatterpolar\",\"marker\":{\"colorbar\":{\"outlinewidth\":0,\"ticks\":\"\"}}}],\"histogram\":[{\"marker\":{\"pattern\":{\"fillmode\":\"overlay\",\"size\":10,\"solidity\":0.2}},\"type\":\"histogram\"}],\"scattergl\":[{\"type\":\"scattergl\",\"marker\":{\"colorbar\":{\"outlinewidth\":0,\"ticks\":\"\"}}}],\"scatter3d\":[{\"type\":\"scatter3d\",\"line\":{\"colorbar\":{\"outlinewidth\":0,\"ticks\":\"\"}},\"marker\":{\"colorbar\":{\"outlinewidth\":0,\"ticks\":\"\"}}}],\"scattermapbox\":[{\"type\":\"scattermapbox\",\"marker\":{\"colorbar\":{\"outlinewidth\":0,\"ticks\":\"\"}}}],\"scatterternary\":[{\"type\":\"scatterternary\",\"marker\":{\"colorbar\":{\"outlinewidth\":0,\"ticks\":\"\"}}}],\"scattercarpet\":[{\"type\":\"scattercarpet\",\"marker\":{\"colorbar\":{\"outlinewidth\":0,\"ticks\":\"\"}}}],\"carpet\":[{\"aaxis\":{\"endlinecolor\":\"#2a3f5f\",\"gridcolor\":\"white\",\"linecolor\":\"white\",\"minorgridcolor\":\"white\",\"startlinecolor\":\"#2a3f5f\"},\"baxis\":{\"endlinecolor\":\"#2a3f5f\",\"gridcolor\":\"white\",\"linecolor\":\"white\",\"minorgridcolor\":\"white\",\"startlinecolor\":\"#2a3f5f\"},\"type\":\"carpet\"}],\"table\":[{\"cells\":{\"fill\":{\"color\":\"#EBF0F8\"},\"line\":{\"color\":\"white\"}},\"header\":{\"fill\":{\"color\":\"#C8D4E3\"},\"line\":{\"color\":\"white\"}},\"type\":\"table\"}],\"barpolar\":[{\"marker\":{\"line\":{\"color\":\"#E5ECF6\",\"width\":0.5},\"pattern\":{\"fillmode\":\"overlay\",\"size\":10,\"solidity\":0.2}},\"type\":\"barpolar\"}],\"pie\":[{\"automargin\":true,\"type\":\"pie\"}]},\"layout\":{\"autotypenumbers\":\"strict\",\"colorway\":[\"#636efa\",\"#EF553B\",\"#00cc96\",\"#ab63fa\",\"#FFA15A\",\"#19d3f3\",\"#FF6692\",\"#B6E880\",\"#FF97FF\",\"#FECB52\"],\"font\":{\"color\":\"#2a3f5f\"},\"hovermode\":\"closest\",\"hoverlabel\":{\"align\":\"left\"},\"paper_bgcolor\":\"white\",\"plot_bgcolor\":\"#E5ECF6\",\"polar\":{\"bgcolor\":\"#E5ECF6\",\"angularaxis\":{\"gridcolor\":\"white\",\"linecolor\":\"white\",\"ticks\":\"\"},\"radialaxis\":{\"gridcolor\":\"white\",\"linecolor\":\"white\",\"ticks\":\"\"}},\"ternary\":{\"bgcolor\":\"#E5ECF6\",\"aaxis\":{\"gridcolor\":\"white\",\"linecolor\":\"white\",\"ticks\":\"\"},\"baxis\":{\"gridcolor\":\"white\",\"linecolor\":\"white\",\"ticks\":\"\"},\"caxis\":{\"gridcolor\":\"white\",\"linecolor\":\"white\",\"ticks\":\"\"}},\"coloraxis\":{\"colorbar\":{\"outlinewidth\":0,\"ticks\":\"\"}},\"colorscale\":{\"sequential\":[[0.0,\"#0d0887\"],[0.1111111111111111,\"#46039f\"],[0.2222222222222222,\"#7201a8\"],[0.3333333333333333,\"#9c179e\"],[0.4444444444444444,\"#bd3786\"],[0.5555555555555556,\"#d8576b\"],[0.6666666666666666,\"#ed7953\"],[0.7777777777777778,\"#fb9f3a\"],[0.8888888888888888,\"#fdca26\"],[1.0,\"#f0f921\"]],\"sequentialminus\":[[0.0,\"#0d0887\"],[0.1111111111111111,\"#46039f\"],[0.2222222222222222,\"#7201a8\"],[0.3333333333333333,\"#9c179e\"],[0.4444444444444444,\"#bd3786\"],[0.5555555555555556,\"#d8576b\"],[0.6666666666666666,\"#ed7953\"],[0.7777777777777778,\"#fb9f3a\"],[0.8888888888888888,\"#fdca26\"],[1.0,\"#f0f921\"]],\"diverging\":[[0,\"#8e0152\"],[0.1,\"#c51b7d\"],[0.2,\"#de77ae\"],[0.3,\"#f1b6da\"],[0.4,\"#fde0ef\"],[0.5,\"#f7f7f7\"],[0.6,\"#e6f5d0\"],[0.7,\"#b8e186\"],[0.8,\"#7fbc41\"],[0.9,\"#4d9221\"],[1,\"#276419\"]]},\"xaxis\":{\"gridcolor\":\"white\",\"linecolor\":\"white\",\"ticks\":\"\",\"title\":{\"standoff\":15},\"zerolinecolor\":\"white\",\"automargin\":true,\"zerolinewidth\":2},\"yaxis\":{\"gridcolor\":\"white\",\"linecolor\":\"white\",\"ticks\":\"\",\"title\":{\"standoff\":15},\"zerolinecolor\":\"white\",\"automargin\":true,\"zerolinewidth\":2},\"scene\":{\"xaxis\":{\"backgroundcolor\":\"#E5ECF6\",\"gridcolor\":\"white\",\"linecolor\":\"white\",\"showbackground\":true,\"ticks\":\"\",\"zerolinecolor\":\"white\",\"gridwidth\":2},\"yaxis\":{\"backgroundcolor\":\"#E5ECF6\",\"gridcolor\":\"white\",\"linecolor\":\"white\",\"showbackground\":true,\"ticks\":\"\",\"zerolinecolor\":\"white\",\"gridwidth\":2},\"zaxis\":{\"backgroundcolor\":\"#E5ECF6\",\"gridcolor\":\"white\",\"linecolor\":\"white\",\"showbackground\":true,\"ticks\":\"\",\"zerolinecolor\":\"white\",\"gridwidth\":2}},\"shapedefaults\":{\"line\":{\"color\":\"#2a3f5f\"}},\"annotationdefaults\":{\"arrowcolor\":\"#2a3f5f\",\"arrowhead\":0,\"arrowwidth\":1},\"geo\":{\"bgcolor\":\"white\",\"landcolor\":\"#E5ECF6\",\"subunitcolor\":\"white\",\"showland\":true,\"showlakes\":true,\"lakecolor\":\"white\"},\"title\":{\"x\":0.05},\"mapbox\":{\"style\":\"light\"}}}},                        {\"responsive\": true}                    ).then(function(){\n",
              "                            \n",
              "var gd = document.getElementById('499f17bd-a953-4e0c-a85f-c9fc74a5c9e1');\n",
              "var x = new MutationObserver(function (mutations, observer) {{\n",
              "        var display = window.getComputedStyle(gd).display;\n",
              "        if (!display || display === 'none') {{\n",
              "            console.log([gd, 'removed!']);\n",
              "            Plotly.purge(gd);\n",
              "            observer.disconnect();\n",
              "        }}\n",
              "}});\n",
              "\n",
              "// Listen for the removal of the full notebook cells\n",
              "var notebookContainer = gd.closest('#notebook-container');\n",
              "if (notebookContainer) {{\n",
              "    x.observe(notebookContainer, {childList: true});\n",
              "}}\n",
              "\n",
              "// Listen for the clearing of the current output cell\n",
              "var outputEl = gd.closest('.output');\n",
              "if (outputEl) {{\n",
              "    x.observe(outputEl, {childList: true});\n",
              "}}\n",
              "\n",
              "                        })                };                            </script>        </div>\n",
              "</body>\n",
              "</html>"
            ]
          },
          "metadata": {}
        }
      ]
    },
    {
      "cell_type": "code",
      "source": [
        "# Initialize an empty dictionary\n",
        "my_dict = {}\n",
        "\n",
        "# Create a while loop to add data to the dictionary\n",
        "while True:\n",
        "    key = input(\"Enter a key (or 'q' to quit): \")\n",
        "\n",
        "    # Check if the user wants to quit\n",
        "    if key == 'q':\n",
        "        break\n",
        "\n",
        "    value = input(\"Enter a value: \")\n",
        "\n",
        "    # Add the key-value pair to the dictionary\n",
        "    my_dict[key] = value\n",
        "\n",
        "# Print the resulting dictionary\n",
        "print(\"Dictionary contents:\")\n",
        "for key, value in my_dict.items():\n",
        "    print(f\"{key}: {value}\")\n"
      ],
      "metadata": {
        "colab": {
          "base_uri": "https://localhost:8080/"
        },
        "id": "D7zqtP3U6aTY",
        "outputId": "09d5da94-b54c-48c4-edbe-380808334016"
      },
      "execution_count": null,
      "outputs": [
        {
          "output_type": "stream",
          "name": "stdout",
          "text": [
            "Enter a key (or 'q' to quit): 15\n",
            "Enter a value: 16\n",
            "Enter a key (or 'q' to quit): 178\n",
            "Enter a value: 17\n",
            "Enter a key (or 'q' to quit): q\n",
            "Dictionary contents:\n",
            "15: 16\n",
            "178: 17\n"
          ]
        }
      ]
    },
    {
      "cell_type": "code",
      "source": [
        "def my_funtion(fname, lname):\n",
        "  print(f\"Welcome to FBI{fname}{lname}\")\n",
        "\n",
        "fi = input(\"Your First Name: \")\n",
        "li = input(\"Your Sourname\")\n",
        "\n",
        "my_funtion(fi, li)\n"
      ],
      "metadata": {
        "colab": {
          "base_uri": "https://localhost:8080/"
        },
        "id": "3_2HS3_EIGPo",
        "outputId": "0ccd1fe2-0590-424f-9ae3-62f0ea106f7e"
      },
      "execution_count": null,
      "outputs": [
        {
          "output_type": "stream",
          "name": "stdout",
          "text": [
            "Your First Name: yusuf\n",
            "Your SournameAras\n",
            "Welcome to FBIyusufAras\n"
          ]
        }
      ]
    },
    {
      "cell_type": "code",
      "source": [
        "def my_funtion(country = \"Norway\"):\n",
        "  print(f\"I am from{country}\")\n",
        "\n",
        "my_funtion(\"Turkey\")\n",
        "my_funtion(\"Kurdey\")\n",
        "my_funtion(\"Engley\")\n"
      ],
      "metadata": {
        "colab": {
          "base_uri": "https://localhost:8080/"
        },
        "id": "7zk2SiD1JsXo",
        "outputId": "9b1cd9a0-f361-43df-efe4-e9873960c850"
      },
      "execution_count": null,
      "outputs": [
        {
          "output_type": "stream",
          "name": "stdout",
          "text": [
            "I am fromTurkey\n",
            "I am fromKurdey\n",
            "I am fromEngley\n"
          ]
        }
      ]
    },
    {
      "cell_type": "code",
      "source": [
        "def my_funtion(country=key):\n",
        "  print(f\"I am from{country}\")\n",
        "\n",
        "country = {}\n",
        "# Create a while loop to add data to the dictionary\n",
        "while True:\n",
        "    key = input(\"Enter a Country (or 'q' to quit): \")\n",
        "\n",
        "    # Check if the user wants to quit\n",
        "    if key == 'q':\n",
        "        break\n",
        "\n",
        "    value = input(f\"Enter a capital sty of {key}: \")\n",
        "\n",
        "    # Add the key-value pair to the dictionary\n",
        "    country[key] = value\n",
        "\n",
        "# Print the resulting dictionary\n",
        "print(\"Those country:\")\n",
        "for key, value in country.items():\n",
        "    my_funtion(country)"
      ],
      "metadata": {
        "colab": {
          "base_uri": "https://localhost:8080/"
        },
        "id": "e0vrtQ4EKGtY",
        "outputId": "82840ec9-02f7-44be-b120-3218bfc6eb2a"
      },
      "execution_count": null,
      "outputs": [
        {
          "output_type": "stream",
          "name": "stdout",
          "text": [
            "Enter a Country (or 'q' to quit): vc\n",
            "Enter a capital sty of vc: vcjh\n",
            "Enter a Country (or 'q' to quit): bcj\n",
            "Enter a capital sty of bcj: kbcdcjhs\n",
            "Enter a Country (or 'q' to quit): q\n",
            "Those country:\n",
            "I am from{'vc': 'vcjh', 'bcj': 'kbcdcjhs'}\n",
            "I am from{'vc': 'vcjh', 'bcj': 'kbcdcjhs'}\n"
          ]
        }
      ]
    },
    {
      "cell_type": "code",
      "source": [],
      "metadata": {
        "id": "s8ttvhopK61w"
      },
      "execution_count": null,
      "outputs": []
    },
    {
      "cell_type": "code",
      "source": [
        "def add(num1: int, num2: int):\n",
        "  num3 = num1+num2\n",
        "  return num3\n",
        "\n",
        "#num1, num2 = 5,15\n",
        "\n",
        "num1 = int(input(\"enter num1: \"))\n",
        "num2 = int(input(\"enter num2: \"))\n",
        "ans = add(num1, num2)\n",
        "add(num1, num2)"
      ],
      "metadata": {
        "colab": {
          "base_uri": "https://localhost:8080/"
        },
        "id": "n3vJa3pULo4Q",
        "outputId": "579bf600-5f3b-43d6-b8d7-4ba4b5f7ee9a"
      },
      "execution_count": null,
      "outputs": [
        {
          "name": "stdout",
          "output_type": "stream",
          "text": [
            "enter num1: 15\n",
            "enter num2: 15\n"
          ]
        },
        {
          "output_type": "execute_result",
          "data": {
            "text/plain": [
              "30"
            ]
          },
          "metadata": {},
          "execution_count": 31
        }
      ]
    },
    {
      "cell_type": "code",
      "source": [
        "\n",
        "i,J = 0\n",
        "while True:\n",
        "  choice = input(\"Do you want to add more numbers? (yes/no): \").lower()\n",
        "  if choice != 'yes':\n",
        "    break\n",
        "  J+=1\n",
        "\n",
        "  while i <= len(J)\n",
        "  num+{i} = int(input(\"Enter num1: \"))\n",
        "  def add(num{i}, num{i}):\n",
        "    num3 = num1 + num2\n",
        "    return num3\n",
        "\n",
        "  ans = add(num1, num2)\n",
        "  print(f\"Result: {ans}\")\n"
      ],
      "metadata": {
        "colab": {
          "base_uri": "https://localhost:8080/"
        },
        "id": "Ls3QMwxrM4Bg",
        "outputId": "619494ea-a13b-4656-a0ad-8a515849ee8a"
      },
      "execution_count": null,
      "outputs": [
        {
          "name": "stdout",
          "output_type": "stream",
          "text": [
            "Enter num1: 15\n",
            "Enter num2: 25\n",
            "Result: 40\n",
            "Do you want to add more numbers? (yes/no): yes\n",
            "Enter num1: 15\n",
            "Enter num2: 15\n",
            "Result: 30\n",
            "Do you want to add more numbers? (yes/no): n\n"
          ]
        }
      ]
    },
    {
      "cell_type": "code",
      "source": [
        "def add(num1: int, num2: int):\n",
        "  num3=num1+num2\n",
        "  return num3\n",
        "\n",
        "num1, num2 = 5, 15\n",
        "ans = add(num1, num2)\n",
        "print(f\"{ans}\")"
      ],
      "metadata": {
        "colab": {
          "base_uri": "https://localhost:8080/"
        },
        "id": "f2gKZLf-NcxH",
        "outputId": "864a428c-64d1-4f0e-9d03-88743cbbd2a3"
      },
      "execution_count": null,
      "outputs": [
        {
          "output_type": "stream",
          "name": "stdout",
          "text": [
            "20\n"
          ]
        }
      ]
    },
    {
      "cell_type": "code",
      "source": [
        "def evenOdd(x):\n",
        "  if(x%2==0):\n",
        "    print(\"even\")\n",
        "  else:\n",
        "    print(\"odd\")\n",
        "\n",
        "x = int(input(\"enter a number\"))\n",
        "evenOdd(x)"
      ],
      "metadata": {
        "colab": {
          "base_uri": "https://localhost:8080/"
        },
        "id": "_78PFb1-N-vP",
        "outputId": "19af546a-c67e-42aa-fa3b-08e165582d13"
      },
      "execution_count": null,
      "outputs": [
        {
          "output_type": "stream",
          "name": "stdout",
          "text": [
            "enter a number6\n",
            "even\n"
          ]
        }
      ]
    },
    {
      "cell_type": "code",
      "source": [
        "'''operations = {'+': lambda x, y: x + y, '-': lambda x, y: x - y, '*': lambda x, y: x * y, '/': lambda x, y: x / y}\n",
        "\n",
        "while True:\n",
        "    operation = input(\"Enter an operation (+, -, *, /): \")\n",
        "    if operation not in operations:\n",
        "        print(\"Invalid operation. Please enter +, -, *, or /.\")\n",
        "        continue\n",
        "\n",
        "    num1 = float(input(\"Enter the first number: \"))\n",
        "    num2 = float(input(\"Enter the second number: \"))\n",
        "\n",
        "    result = operations[operation](num1, num2)\n",
        "    print(f\"Result: {result}\")\n",
        "\n",
        "    choice = input(\"Do you want to perform another operation? (yes/no): \").lower()\n",
        "    if choice != 'yes':\n",
        "        break\n",
        "'''\n",
        "\n",
        "total = 0\n",
        "\n",
        "while True:\n",
        "    num = float(input(\"Enter a number to add (or 'q' to quit): \"))\n",
        "    if num == 'q':\n",
        "        break\n",
        "    total += num\n",
        "\n",
        "print(f\"Total sum: {total}\")\n"
      ],
      "metadata": {
        "colab": {
          "base_uri": "https://localhost:8080/",
          "height": 315
        },
        "id": "p1rJ2FDWSdzA",
        "outputId": "597d40ce-61a8-42fe-9ec9-44624bbccf4c"
      },
      "execution_count": null,
      "outputs": [
        {
          "name": "stdout",
          "output_type": "stream",
          "text": [
            "Enter a number to add (or 'q' to quit): 15\n",
            "Enter a number to add (or 'q' to quit): 15\n",
            "Enter a number to add (or 'q' to quit): 15\n",
            "Enter a number to add (or 'q' to quit): q\n"
          ]
        },
        {
          "output_type": "error",
          "ename": "ValueError",
          "evalue": "ignored",
          "traceback": [
            "\u001b[0;31m---------------------------------------------------------------------------\u001b[0m",
            "\u001b[0;31mValueError\u001b[0m                                Traceback (most recent call last)",
            "\u001b[0;32m<ipython-input-36-d49fab96d835>\u001b[0m in \u001b[0;36m<cell line: 22>\u001b[0;34m()\u001b[0m\n\u001b[1;32m     21\u001b[0m \u001b[0;34m\u001b[0m\u001b[0m\n\u001b[1;32m     22\u001b[0m \u001b[0;32mwhile\u001b[0m \u001b[0;32mTrue\u001b[0m\u001b[0;34m:\u001b[0m\u001b[0;34m\u001b[0m\u001b[0;34m\u001b[0m\u001b[0m\n\u001b[0;32m---> 23\u001b[0;31m     \u001b[0mnum\u001b[0m \u001b[0;34m=\u001b[0m \u001b[0mfloat\u001b[0m\u001b[0;34m(\u001b[0m\u001b[0minput\u001b[0m\u001b[0;34m(\u001b[0m\u001b[0;34m\"Enter a number to add (or 'q' to quit): \"\u001b[0m\u001b[0;34m)\u001b[0m\u001b[0;34m)\u001b[0m\u001b[0;34m\u001b[0m\u001b[0;34m\u001b[0m\u001b[0m\n\u001b[0m\u001b[1;32m     24\u001b[0m     \u001b[0;32mif\u001b[0m \u001b[0mnum\u001b[0m \u001b[0;34m==\u001b[0m \u001b[0;34m'q'\u001b[0m\u001b[0;34m:\u001b[0m\u001b[0;34m\u001b[0m\u001b[0;34m\u001b[0m\u001b[0m\n\u001b[1;32m     25\u001b[0m         \u001b[0;32mbreak\u001b[0m\u001b[0;34m\u001b[0m\u001b[0;34m\u001b[0m\u001b[0m\n",
            "\u001b[0;31mValueError\u001b[0m: could not convert string to float: 'q'"
          ]
        }
      ]
    }
  ],
  "metadata": {
    "colab": {
      "provenance": []
    },
    "kernelspec": {
      "display_name": "Python 3",
      "name": "python3"
    },
    "language_info": {
      "name": "python"
    }
  },
  "nbformat": 4,
  "nbformat_minor": 0
}